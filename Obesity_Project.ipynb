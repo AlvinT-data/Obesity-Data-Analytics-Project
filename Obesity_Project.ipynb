{
  "nbformat": 4,
  "nbformat_minor": 0,
  "metadata": {
    "colab": {
      "provenance": [],
      "toc_visible": true
    },
    "kernelspec": {
      "name": "python3",
      "display_name": "Python 3"
    },
    "language_info": {
      "name": "python"
    }
  },
  "cells": [
    {
      "cell_type": "markdown",
      "source": [
        "# 📊 U.S. Obesity EDA (2016–2023)\n",
        "\n",
        "## 📑 Table of Contents\n",
        "\n",
        "1. [Imports](#imports)\n",
        "2. [Data Acquisition](#data-acquisition)\n",
        "3. [Data Cleaning](#data-cleaning)\n",
        "4. [Exploratory Data Analysis](#exploratory-data-analysis)\n",
        "   - [Basic Information of Dataset](#basic-information-of-dataset)\n",
        "   - [Trend of Obesity Rate Over Years](#obesity-trends)\n",
        "   - [Obesity by Race/Ethnicity](#obesity-by-raceethnicity)\n",
        "   - [Obesity by Income](#obesity-by-income)\n",
        "   - [Obesity by Education](#obesity-by-education)\n",
        "   - [Obesity by Age](#obesity-by-age)\n",
        "   - [Obesity by Sex](#obesity-by-sex)\n",
        "   - [Obesity vs. Inactivity](#obesity-vs-inactivity)\n",
        "6. [Key Findings](#key-findings)\n",
        "7. [Limitations](#limitations)"
      ],
      "metadata": {
        "id": "ZOakRYNr86Yh"
      }
    },
    {
      "cell_type": "markdown",
      "source": [
        "## Imports <a id=\"imports\"></a>"
      ],
      "metadata": {
        "id": "Om9b9PGhdTNZ"
      }
    },
    {
      "cell_type": "code",
      "execution_count": 70,
      "metadata": {
        "id": "iJfo2UBc8dzW"
      },
      "outputs": [],
      "source": [
        "import pandas as pd\n",
        "import numpy as np\n",
        "\n",
        "import seaborn as sns\n",
        "import matplotlib.pyplot as plt\n",
        "import matplotlib.mlab as mlab\n",
        "import matplotlib\n",
        "plt.style.use('ggplot')\n",
        "from matplotlib.pyplot import figure\n",
        "%matplotlib inline\n",
        "matplotlib.rcParams['figure.figsize'] = (12,8)\n",
        "\n",
        "import warnings\n",
        "warnings.filterwarnings('ignore')\n",
        "pd.set_option('display.max_columns', None)"
      ]
    },
    {
      "cell_type": "code",
      "source": [
        "df = pd.read_csv('/content/Nutrition__Physical_Activity__and_Obesity_-_Behavioral_Risk_Factor_Surveillance_System_20250504.csv')"
      ],
      "metadata": {
        "id": "IYh8-elt804U"
      },
      "execution_count": 71,
      "outputs": []
    },
    {
      "cell_type": "markdown",
      "source": [
        "# **First 3 rows of Original Dataset**"
      ],
      "metadata": {
        "id": "EytT9DeTiBK5"
      }
    },
    {
      "cell_type": "code",
      "source": [
        "df.head(3)"
      ],
      "metadata": {
        "colab": {
          "base_uri": "https://localhost:8080/",
          "height": 701
        },
        "id": "H5gjb5e2iQit",
        "outputId": "1642ba52-0e21-4795-bde4-29d4909672c9"
      },
      "execution_count": 198,
      "outputs": [
        {
          "output_type": "execute_result",
          "data": {
            "text/plain": [
              "   YearStart  YearEnd LocationAbbr LocationDesc Datasource  \\\n",
              "0       2011     2011           AK       Alaska      BRFSS   \n",
              "1       2011     2011           AK       Alaska      BRFSS   \n",
              "2       2011     2011           AK       Alaska      BRFSS   \n",
              "\n",
              "                     Class                         Topic  \\\n",
              "0  Obesity / Weight Status       Obesity / Weight Status   \n",
              "1  Obesity / Weight Status       Obesity / Weight Status   \n",
              "2        Physical Activity  Physical Activity - Behavior   \n",
              "\n",
              "                                                                                                                                                                                                                                                Question  \\\n",
              "0                                                                                                                                                                                             Percent of adults aged 18 years and older who have obesity   \n",
              "1                                                                                                                                                                                             Percent of adults aged 18 years and older who have obesity   \n",
              "2  Percent of adults who achieve at least 150 minutes a week of moderate-intensity aerobic physical activity or 75 minutes a week of vigorous-intensity aerobic physical activity and engage in muscle-strengthening activities on 2 or more days a week   \n",
              "\n",
              "   Data_Value_Unit Data_Value_Type  Data_Value  Data_Value_Alt  \\\n",
              "0           2011.0           Value        23.3            23.3   \n",
              "1           2011.0           Value        35.5            35.5   \n",
              "2           2011.0           Value        21.7            21.7   \n",
              "\n",
              "  Data_Value_Footnote_Symbol Data_Value_Footnote  Low_Confidence_Limit  \\\n",
              "0                        NaN                 NaN                  16.1   \n",
              "1                        NaN                 NaN                  22.7   \n",
              "2                        NaN                 NaN                  19.1   \n",
              "\n",
              "   High_Confidence_Limit  Sample_Size Total Age(years) Education     Sex  \\\n",
              "0                    32.4         128   NaN        NaN       NaN     NaN   \n",
              "1                    50.9          63   NaN        NaN       NaN     NaN   \n",
              "2                    24.6       1,702   NaN        NaN       NaN  Female   \n",
              "\n",
              "  Income   Race/Ethnicity                        GeoLocation ClassID TopicID  \\\n",
              "0    NaN  2 or more races  (64.845079957001, -147.722059036)     OWS    OWS1   \n",
              "1    NaN            Other  (64.845079957001, -147.722059036)     OWS    OWS1   \n",
              "2    NaN              NaN  (64.845079957001, -147.722059036)      PA     PA1   \n",
              "\n",
              "  QuestionID DataValueTypeID  LocationID StratificationCategory1  \\\n",
              "0       Q036           VALUE           2          Race/Ethnicity   \n",
              "1       Q036           VALUE           2          Race/Ethnicity   \n",
              "2       Q044           VALUE           2                     Sex   \n",
              "\n",
              "   Stratification1 StratificationCategoryId1 StratificationID1  \n",
              "0  2 or more races                      RACE         RACE2PLUS  \n",
              "1            Other                      RACE           RACEOTH  \n",
              "2           Female                       SEX            FEMALE  "
            ],
            "text/html": [
              "\n",
              "  <div id=\"df-c2d4a6f0-d46f-4fff-b1a7-77467190b04d\" class=\"colab-df-container\">\n",
              "    <div>\n",
              "<style scoped>\n",
              "    .dataframe tbody tr th:only-of-type {\n",
              "        vertical-align: middle;\n",
              "    }\n",
              "\n",
              "    .dataframe tbody tr th {\n",
              "        vertical-align: top;\n",
              "    }\n",
              "\n",
              "    .dataframe thead th {\n",
              "        text-align: right;\n",
              "    }\n",
              "</style>\n",
              "<table border=\"1\" class=\"dataframe\">\n",
              "  <thead>\n",
              "    <tr style=\"text-align: right;\">\n",
              "      <th></th>\n",
              "      <th>YearStart</th>\n",
              "      <th>YearEnd</th>\n",
              "      <th>LocationAbbr</th>\n",
              "      <th>LocationDesc</th>\n",
              "      <th>Datasource</th>\n",
              "      <th>Class</th>\n",
              "      <th>Topic</th>\n",
              "      <th>Question</th>\n",
              "      <th>Data_Value_Unit</th>\n",
              "      <th>Data_Value_Type</th>\n",
              "      <th>Data_Value</th>\n",
              "      <th>Data_Value_Alt</th>\n",
              "      <th>Data_Value_Footnote_Symbol</th>\n",
              "      <th>Data_Value_Footnote</th>\n",
              "      <th>Low_Confidence_Limit</th>\n",
              "      <th>High_Confidence_Limit</th>\n",
              "      <th>Sample_Size</th>\n",
              "      <th>Total</th>\n",
              "      <th>Age(years)</th>\n",
              "      <th>Education</th>\n",
              "      <th>Sex</th>\n",
              "      <th>Income</th>\n",
              "      <th>Race/Ethnicity</th>\n",
              "      <th>GeoLocation</th>\n",
              "      <th>ClassID</th>\n",
              "      <th>TopicID</th>\n",
              "      <th>QuestionID</th>\n",
              "      <th>DataValueTypeID</th>\n",
              "      <th>LocationID</th>\n",
              "      <th>StratificationCategory1</th>\n",
              "      <th>Stratification1</th>\n",
              "      <th>StratificationCategoryId1</th>\n",
              "      <th>StratificationID1</th>\n",
              "    </tr>\n",
              "  </thead>\n",
              "  <tbody>\n",
              "    <tr>\n",
              "      <th>0</th>\n",
              "      <td>2011</td>\n",
              "      <td>2011</td>\n",
              "      <td>AK</td>\n",
              "      <td>Alaska</td>\n",
              "      <td>BRFSS</td>\n",
              "      <td>Obesity / Weight Status</td>\n",
              "      <td>Obesity / Weight Status</td>\n",
              "      <td>Percent of adults aged 18 years and older who have obesity</td>\n",
              "      <td>2011.0</td>\n",
              "      <td>Value</td>\n",
              "      <td>23.3</td>\n",
              "      <td>23.3</td>\n",
              "      <td>NaN</td>\n",
              "      <td>NaN</td>\n",
              "      <td>16.1</td>\n",
              "      <td>32.4</td>\n",
              "      <td>128</td>\n",
              "      <td>NaN</td>\n",
              "      <td>NaN</td>\n",
              "      <td>NaN</td>\n",
              "      <td>NaN</td>\n",
              "      <td>NaN</td>\n",
              "      <td>2 or more races</td>\n",
              "      <td>(64.845079957001, -147.722059036)</td>\n",
              "      <td>OWS</td>\n",
              "      <td>OWS1</td>\n",
              "      <td>Q036</td>\n",
              "      <td>VALUE</td>\n",
              "      <td>2</td>\n",
              "      <td>Race/Ethnicity</td>\n",
              "      <td>2 or more races</td>\n",
              "      <td>RACE</td>\n",
              "      <td>RACE2PLUS</td>\n",
              "    </tr>\n",
              "    <tr>\n",
              "      <th>1</th>\n",
              "      <td>2011</td>\n",
              "      <td>2011</td>\n",
              "      <td>AK</td>\n",
              "      <td>Alaska</td>\n",
              "      <td>BRFSS</td>\n",
              "      <td>Obesity / Weight Status</td>\n",
              "      <td>Obesity / Weight Status</td>\n",
              "      <td>Percent of adults aged 18 years and older who have obesity</td>\n",
              "      <td>2011.0</td>\n",
              "      <td>Value</td>\n",
              "      <td>35.5</td>\n",
              "      <td>35.5</td>\n",
              "      <td>NaN</td>\n",
              "      <td>NaN</td>\n",
              "      <td>22.7</td>\n",
              "      <td>50.9</td>\n",
              "      <td>63</td>\n",
              "      <td>NaN</td>\n",
              "      <td>NaN</td>\n",
              "      <td>NaN</td>\n",
              "      <td>NaN</td>\n",
              "      <td>NaN</td>\n",
              "      <td>Other</td>\n",
              "      <td>(64.845079957001, -147.722059036)</td>\n",
              "      <td>OWS</td>\n",
              "      <td>OWS1</td>\n",
              "      <td>Q036</td>\n",
              "      <td>VALUE</td>\n",
              "      <td>2</td>\n",
              "      <td>Race/Ethnicity</td>\n",
              "      <td>Other</td>\n",
              "      <td>RACE</td>\n",
              "      <td>RACEOTH</td>\n",
              "    </tr>\n",
              "    <tr>\n",
              "      <th>2</th>\n",
              "      <td>2011</td>\n",
              "      <td>2011</td>\n",
              "      <td>AK</td>\n",
              "      <td>Alaska</td>\n",
              "      <td>BRFSS</td>\n",
              "      <td>Physical Activity</td>\n",
              "      <td>Physical Activity - Behavior</td>\n",
              "      <td>Percent of adults who achieve at least 150 minutes a week of moderate-intensity aerobic physical activity or 75 minutes a week of vigorous-intensity aerobic physical activity and engage in muscle-strengthening activities on 2 or more days a week</td>\n",
              "      <td>2011.0</td>\n",
              "      <td>Value</td>\n",
              "      <td>21.7</td>\n",
              "      <td>21.7</td>\n",
              "      <td>NaN</td>\n",
              "      <td>NaN</td>\n",
              "      <td>19.1</td>\n",
              "      <td>24.6</td>\n",
              "      <td>1,702</td>\n",
              "      <td>NaN</td>\n",
              "      <td>NaN</td>\n",
              "      <td>NaN</td>\n",
              "      <td>Female</td>\n",
              "      <td>NaN</td>\n",
              "      <td>NaN</td>\n",
              "      <td>(64.845079957001, -147.722059036)</td>\n",
              "      <td>PA</td>\n",
              "      <td>PA1</td>\n",
              "      <td>Q044</td>\n",
              "      <td>VALUE</td>\n",
              "      <td>2</td>\n",
              "      <td>Sex</td>\n",
              "      <td>Female</td>\n",
              "      <td>SEX</td>\n",
              "      <td>FEMALE</td>\n",
              "    </tr>\n",
              "  </tbody>\n",
              "</table>\n",
              "</div>\n",
              "    <div class=\"colab-df-buttons\">\n",
              "\n",
              "  <div class=\"colab-df-container\">\n",
              "    <button class=\"colab-df-convert\" onclick=\"convertToInteractive('df-c2d4a6f0-d46f-4fff-b1a7-77467190b04d')\"\n",
              "            title=\"Convert this dataframe to an interactive table.\"\n",
              "            style=\"display:none;\">\n",
              "\n",
              "  <svg xmlns=\"http://www.w3.org/2000/svg\" height=\"24px\" viewBox=\"0 -960 960 960\">\n",
              "    <path d=\"M120-120v-720h720v720H120Zm60-500h600v-160H180v160Zm220 220h160v-160H400v160Zm0 220h160v-160H400v160ZM180-400h160v-160H180v160Zm440 0h160v-160H620v160ZM180-180h160v-160H180v160Zm440 0h160v-160H620v160Z\"/>\n",
              "  </svg>\n",
              "    </button>\n",
              "\n",
              "  <style>\n",
              "    .colab-df-container {\n",
              "      display:flex;\n",
              "      gap: 12px;\n",
              "    }\n",
              "\n",
              "    .colab-df-convert {\n",
              "      background-color: #E8F0FE;\n",
              "      border: none;\n",
              "      border-radius: 50%;\n",
              "      cursor: pointer;\n",
              "      display: none;\n",
              "      fill: #1967D2;\n",
              "      height: 32px;\n",
              "      padding: 0 0 0 0;\n",
              "      width: 32px;\n",
              "    }\n",
              "\n",
              "    .colab-df-convert:hover {\n",
              "      background-color: #E2EBFA;\n",
              "      box-shadow: 0px 1px 2px rgba(60, 64, 67, 0.3), 0px 1px 3px 1px rgba(60, 64, 67, 0.15);\n",
              "      fill: #174EA6;\n",
              "    }\n",
              "\n",
              "    .colab-df-buttons div {\n",
              "      margin-bottom: 4px;\n",
              "    }\n",
              "\n",
              "    [theme=dark] .colab-df-convert {\n",
              "      background-color: #3B4455;\n",
              "      fill: #D2E3FC;\n",
              "    }\n",
              "\n",
              "    [theme=dark] .colab-df-convert:hover {\n",
              "      background-color: #434B5C;\n",
              "      box-shadow: 0px 1px 3px 1px rgba(0, 0, 0, 0.15);\n",
              "      filter: drop-shadow(0px 1px 2px rgba(0, 0, 0, 0.3));\n",
              "      fill: #FFFFFF;\n",
              "    }\n",
              "  </style>\n",
              "\n",
              "    <script>\n",
              "      const buttonEl =\n",
              "        document.querySelector('#df-c2d4a6f0-d46f-4fff-b1a7-77467190b04d button.colab-df-convert');\n",
              "      buttonEl.style.display =\n",
              "        google.colab.kernel.accessAllowed ? 'block' : 'none';\n",
              "\n",
              "      async function convertToInteractive(key) {\n",
              "        const element = document.querySelector('#df-c2d4a6f0-d46f-4fff-b1a7-77467190b04d');\n",
              "        const dataTable =\n",
              "          await google.colab.kernel.invokeFunction('convertToInteractive',\n",
              "                                                    [key], {});\n",
              "        if (!dataTable) return;\n",
              "\n",
              "        const docLinkHtml = 'Like what you see? Visit the ' +\n",
              "          '<a target=\"_blank\" href=https://colab.research.google.com/notebooks/data_table.ipynb>data table notebook</a>'\n",
              "          + ' to learn more about interactive tables.';\n",
              "        element.innerHTML = '';\n",
              "        dataTable['output_type'] = 'display_data';\n",
              "        await google.colab.output.renderOutput(dataTable, element);\n",
              "        const docLink = document.createElement('div');\n",
              "        docLink.innerHTML = docLinkHtml;\n",
              "        element.appendChild(docLink);\n",
              "      }\n",
              "    </script>\n",
              "  </div>\n",
              "\n",
              "\n",
              "    <div id=\"df-908b6cd8-586a-4a32-a0d5-daf2bc0f4510\">\n",
              "      <button class=\"colab-df-quickchart\" onclick=\"quickchart('df-908b6cd8-586a-4a32-a0d5-daf2bc0f4510')\"\n",
              "                title=\"Suggest charts\"\n",
              "                style=\"display:none;\">\n",
              "\n",
              "<svg xmlns=\"http://www.w3.org/2000/svg\" height=\"24px\"viewBox=\"0 0 24 24\"\n",
              "     width=\"24px\">\n",
              "    <g>\n",
              "        <path d=\"M19 3H5c-1.1 0-2 .9-2 2v14c0 1.1.9 2 2 2h14c1.1 0 2-.9 2-2V5c0-1.1-.9-2-2-2zM9 17H7v-7h2v7zm4 0h-2V7h2v10zm4 0h-2v-4h2v4z\"/>\n",
              "    </g>\n",
              "</svg>\n",
              "      </button>\n",
              "\n",
              "<style>\n",
              "  .colab-df-quickchart {\n",
              "      --bg-color: #E8F0FE;\n",
              "      --fill-color: #1967D2;\n",
              "      --hover-bg-color: #E2EBFA;\n",
              "      --hover-fill-color: #174EA6;\n",
              "      --disabled-fill-color: #AAA;\n",
              "      --disabled-bg-color: #DDD;\n",
              "  }\n",
              "\n",
              "  [theme=dark] .colab-df-quickchart {\n",
              "      --bg-color: #3B4455;\n",
              "      --fill-color: #D2E3FC;\n",
              "      --hover-bg-color: #434B5C;\n",
              "      --hover-fill-color: #FFFFFF;\n",
              "      --disabled-bg-color: #3B4455;\n",
              "      --disabled-fill-color: #666;\n",
              "  }\n",
              "\n",
              "  .colab-df-quickchart {\n",
              "    background-color: var(--bg-color);\n",
              "    border: none;\n",
              "    border-radius: 50%;\n",
              "    cursor: pointer;\n",
              "    display: none;\n",
              "    fill: var(--fill-color);\n",
              "    height: 32px;\n",
              "    padding: 0;\n",
              "    width: 32px;\n",
              "  }\n",
              "\n",
              "  .colab-df-quickchart:hover {\n",
              "    background-color: var(--hover-bg-color);\n",
              "    box-shadow: 0 1px 2px rgba(60, 64, 67, 0.3), 0 1px 3px 1px rgba(60, 64, 67, 0.15);\n",
              "    fill: var(--button-hover-fill-color);\n",
              "  }\n",
              "\n",
              "  .colab-df-quickchart-complete:disabled,\n",
              "  .colab-df-quickchart-complete:disabled:hover {\n",
              "    background-color: var(--disabled-bg-color);\n",
              "    fill: var(--disabled-fill-color);\n",
              "    box-shadow: none;\n",
              "  }\n",
              "\n",
              "  .colab-df-spinner {\n",
              "    border: 2px solid var(--fill-color);\n",
              "    border-color: transparent;\n",
              "    border-bottom-color: var(--fill-color);\n",
              "    animation:\n",
              "      spin 1s steps(1) infinite;\n",
              "  }\n",
              "\n",
              "  @keyframes spin {\n",
              "    0% {\n",
              "      border-color: transparent;\n",
              "      border-bottom-color: var(--fill-color);\n",
              "      border-left-color: var(--fill-color);\n",
              "    }\n",
              "    20% {\n",
              "      border-color: transparent;\n",
              "      border-left-color: var(--fill-color);\n",
              "      border-top-color: var(--fill-color);\n",
              "    }\n",
              "    30% {\n",
              "      border-color: transparent;\n",
              "      border-left-color: var(--fill-color);\n",
              "      border-top-color: var(--fill-color);\n",
              "      border-right-color: var(--fill-color);\n",
              "    }\n",
              "    40% {\n",
              "      border-color: transparent;\n",
              "      border-right-color: var(--fill-color);\n",
              "      border-top-color: var(--fill-color);\n",
              "    }\n",
              "    60% {\n",
              "      border-color: transparent;\n",
              "      border-right-color: var(--fill-color);\n",
              "    }\n",
              "    80% {\n",
              "      border-color: transparent;\n",
              "      border-right-color: var(--fill-color);\n",
              "      border-bottom-color: var(--fill-color);\n",
              "    }\n",
              "    90% {\n",
              "      border-color: transparent;\n",
              "      border-bottom-color: var(--fill-color);\n",
              "    }\n",
              "  }\n",
              "</style>\n",
              "\n",
              "      <script>\n",
              "        async function quickchart(key) {\n",
              "          const quickchartButtonEl =\n",
              "            document.querySelector('#' + key + ' button');\n",
              "          quickchartButtonEl.disabled = true;  // To prevent multiple clicks.\n",
              "          quickchartButtonEl.classList.add('colab-df-spinner');\n",
              "          try {\n",
              "            const charts = await google.colab.kernel.invokeFunction(\n",
              "                'suggestCharts', [key], {});\n",
              "          } catch (error) {\n",
              "            console.error('Error during call to suggestCharts:', error);\n",
              "          }\n",
              "          quickchartButtonEl.classList.remove('colab-df-spinner');\n",
              "          quickchartButtonEl.classList.add('colab-df-quickchart-complete');\n",
              "        }\n",
              "        (() => {\n",
              "          let quickchartButtonEl =\n",
              "            document.querySelector('#df-908b6cd8-586a-4a32-a0d5-daf2bc0f4510 button');\n",
              "          quickchartButtonEl.style.display =\n",
              "            google.colab.kernel.accessAllowed ? 'block' : 'none';\n",
              "        })();\n",
              "      </script>\n",
              "    </div>\n",
              "\n",
              "    </div>\n",
              "  </div>\n"
            ],
            "application/vnd.google.colaboratory.intrinsic+json": {
              "type": "dataframe",
              "variable_name": "df"
            }
          },
          "metadata": {},
          "execution_count": 198
        }
      ]
    },
    {
      "cell_type": "markdown",
      "source": [
        "# Data acquisition\n",
        "The dataset used in this project is derived from [the CDC’s Behavioral Risk Factor Surveillance System (BRFSS)](https://data.cdc.gov/Nutrition-Physical-Activity-and-Obesity/Nutrition-Physical-Activity-and-Obesity-Behavioral/hn4x-zwk7/about_data), one of the largest ongoing health surveys in the world. It includes aggregated data by demographic groups (e.g., age, gender, race/ethnicity) at the state level and tracks health behaviors such as physical activity, dietary habits, and self-reported weight status."
      ],
      "metadata": {
        "id": "OARHLGiHvjYx"
      }
    },
    {
      "cell_type": "markdown",
      "source": [
        "#**Description of Data**\n",
        "**Structure:**\n",
        "*   Csv file\n",
        "*   104272 rows, 33 columns\n",
        "\n",
        "**Variables:**\n",
        "* many of them are qualitative nominal, along with a few that are quantitative continuous and discrete. <Br>\n",
        "\n",
        "**Granularity**\n",
        "* Each row/record is a group of individuals aggregated by demographic, and the size of each record is listed under the column “Sample_Size”.\n",
        "\n",
        "**Scope**\n",
        "* It includes data from 2011-2023, which is a long period of time. My analysis focus on more recent data like 2016-2023.\n",
        "* Only data from individuals that filled out the specific survey will be collected, so bias may exist in the dataset.\n",
        "\n",
        "**Temporality**\n",
        "* The records are between 2011 and 2023, and each record has a periodicity of a year.\n"
      ],
      "metadata": {
        "id": "eC9LzVmMxbu4"
      }
    },
    {
      "cell_type": "markdown",
      "source": [
        "#**Data Cleaning** <a id=\"data-cleaning\"></a>\n",
        "The datasets are relatively clean with around 11% of missing data. Although it comes with 30+ columns, many of them are unnecessary. Since it is a dataset from government organization, the consistency of values is at a great state. <br>Data cleaning steps that I have performed include:\n",
        "* Dropped Unnecessary Columns\n",
        "* Dropped Duplicate Rows\n",
        "* Renamed Columns in More Understandable way\n",
        "* Renamed All the Questions Under \"Question\" Column\n",
        "* Ensured Categorical Values Consistency under Columns Like Sex, Income, etc.\n",
        "* Ensured no unrealistics numerical value (Proportion or Sample Size below 0)\n",
        "* Extracted Data from 2016 and Later\n",
        "\n",
        "**Challenges:**\n",
        "\n",
        "* Despite the 11% missing values, I planned to replace or drop them later on in EDA section depending on the shape of their categories/demographs(sex, education, income, etc.)"
      ],
      "metadata": {
        "id": "-7KEaNFKEdk7"
      }
    },
    {
      "cell_type": "markdown",
      "source": [
        "Dropping unescessary columns and duplicate records"
      ],
      "metadata": {
        "id": "6bSQS6WC8Nc_"
      }
    },
    {
      "cell_type": "code",
      "source": [
        "df_drop = df.drop(columns=['YearEnd', 'Datasource', 'Class', 'Data_Value_Unit','Data_Value_Type'\\\n",
        "                   , 'Topic', 'Low_Confidence_Limit'\\\n",
        "                   , 'Data_Value_Footnote_Symbol', 'Data_Value_Footnote', 'ClassID', 'TopicID'\\\n",
        "                   , 'DataValueTypeID', 'LocationID', 'StratificationCategory1', 'Stratification1'\\\n",
        "                   , 'StratificationID1', 'QuestionID', 'Data_Value_Alt'])\n"
      ],
      "metadata": {
        "id": "4Fyh_j7V_L_f"
      },
      "execution_count": 100,
      "outputs": []
    },
    {
      "cell_type": "code",
      "source": [
        "df_drop = df_drop.drop(df_drop.columns[5], axis=1)"
      ],
      "metadata": {
        "id": "oK-KYxCuC5Ka"
      },
      "execution_count": 101,
      "outputs": []
    },
    {
      "cell_type": "code",
      "source": [
        "df_drop = df_drop.drop_duplicates()"
      ],
      "metadata": {
        "id": "tlNLXX9VFDmB"
      },
      "execution_count": 102,
      "outputs": []
    },
    {
      "cell_type": "markdown",
      "source": [
        "Renaming columns with more understandable names"
      ],
      "metadata": {
        "id": "qrAPZcqJ8U9v"
      }
    },
    {
      "cell_type": "code",
      "source": [
        " df_rename = df_drop.rename(\n",
        "    columns={'YearStart': 'Year', 'LocationAbbr': 'State(Abb)',\n",
        "             'Data_Value':'Proportion(%)', \"Sample_Size\": 'Size',\n",
        "             'Age(years)': \"Age\", 'GeoLocation': 'Location',\n",
        "             'StratificationCategoryId1': 'Category', 'LocationDesc': 'State'})"
      ],
      "metadata": {
        "id": "0xvfmdbuO1V7"
      },
      "execution_count": 199,
      "outputs": []
    },
    {
      "cell_type": "markdown",
      "source": [
        "Renaming all the long questions with understandable abbreviations"
      ],
      "metadata": {
        "id": "4SNF5MC08gAf"
      }
    },
    {
      "cell_type": "code",
      "source": [
        "df_rename['Question'] = df_rename['Question'].replace({\n",
        "    'Percent of adults aged 18 years and older who have obesity': 'Obesity(%)',\n",
        "    'Percent of adults aged 18 years and older who have an overweight classification': 'Overweight(%)',\n",
        "    'Percent of adults who engage in no leisure-time physical activity': 'Inactivity(%)',\n",
        "    'Percent of adults who report consuming fruit less than one time daily': 'Daily Fruit(%)',\n",
        "    'Percent of adults who report consuming vegetables less than one time daily': 'Daily Veg(%)',\n",
        "    'Percent of adults who engage in muscle-strengthening activities on 2 or more days a week': 'Muscle Activity(%)',\n",
        "    'Percent of adults who achieve at least 150 minutes a week of moderate-intensity aerobic physical activity or 75 minutes a week of vigorous-intensity aerobic activity (or an equivalent combination)':\\\n",
        "    '150 Aero Train(%)',\n",
        "    'Percent of adults who achieve at least 300 minutes a week of moderate-intensity aerobic physical activity or 150 minutes a week of vigorous-intensity aerobic activity (or an equivalent combination)':\\\n",
        "    '300 Aero Train(%)',\n",
        "    'Percent of adults who achieve at least 150 minutes a week of moderate-intensity aerobic physical activity or 75 minutes a week of vigorous-intensity aerobic physical activity and engage in muscle-strengthening activities on 2 or more days a week':\\\n",
        "    '150 2Days Aero(%)'})"
      ],
      "metadata": {
        "id": "n_u3ocneNdS6"
      },
      "execution_count": 200,
      "outputs": []
    },
    {
      "cell_type": "markdown",
      "source": [
        "Extracting data after 2015 only\n"
      ],
      "metadata": {
        "id": "KxQ7rsFS8zQl"
      }
    },
    {
      "cell_type": "code",
      "source": [
        "df_2016_2023 = df_rename[df_rename['Year'] >= 2016]"
      ],
      "metadata": {
        "id": "HO-lSG6w3Yez"
      },
      "execution_count": 107,
      "outputs": []
    },
    {
      "cell_type": "code",
      "source": [
        "# Proportion of missing data\n",
        "pct_missing = (df_2016_2023['Proportion(%)'].isnull()).mean()\n",
        "print(f\"{pct_missing}% of the data is missing\")"
      ],
      "metadata": {
        "colab": {
          "base_uri": "https://localhost:8080/"
        },
        "id": "vCuNaWLylfjz",
        "outputId": "bc569d7d-9e10-4692-c792-5652acd11b5a"
      },
      "execution_count": 109,
      "outputs": [
        {
          "output_type": "stream",
          "name": "stdout",
          "text": [
            "0.10900783289817233% of the data is missing\n"
          ]
        }
      ]
    },
    {
      "cell_type": "code",
      "source": [
        "# reset index\n",
        "df_2016_2023 = df_2016_2023.reset_index(drop=True)"
      ],
      "metadata": {
        "id": "GrFq0K-wns1D"
      },
      "execution_count": 110,
      "outputs": []
    },
    {
      "cell_type": "markdown",
      "source": [
        "Ensuring if there are unrealistic numerical value under Proportion and Size\n"
      ],
      "metadata": {
        "id": "BaIOVxnW8qKx"
      }
    },
    {
      "cell_type": "code",
      "source": [
        "df_2016_2023['Size'] = df_2016_2023['Size'].str.replace(\n",
        "    ',', '').str.replace('NaN', '').fillna(0).astype(int)\n",
        "df_2016_2023[(df_2016_2023['Proportion(%)'] < 0) | (df_2016_2023['Size'] < 0)]"
      ],
      "metadata": {
        "colab": {
          "base_uri": "https://localhost:8080/",
          "height": 73
        },
        "id": "atTJvSfm0TJi",
        "outputId": "6d9ebebf-8060-42c9-e985-adf8b9eb3b60"
      },
      "execution_count": 111,
      "outputs": [
        {
          "output_type": "execute_result",
          "data": {
            "text/plain": [
              "Empty DataFrame\n",
              "Columns: [Year, State(Abb), State, Question, Proportion(%), Size, Total, Age, Education, Sex, Income, Race/Ethnicity, Location, Category]\n",
              "Index: []"
            ],
            "text/html": [
              "\n",
              "  <div id=\"df-11f317c8-6bc7-4e10-b8b1-dfe17e3a1b49\" class=\"colab-df-container\">\n",
              "    <div>\n",
              "<style scoped>\n",
              "    .dataframe tbody tr th:only-of-type {\n",
              "        vertical-align: middle;\n",
              "    }\n",
              "\n",
              "    .dataframe tbody tr th {\n",
              "        vertical-align: top;\n",
              "    }\n",
              "\n",
              "    .dataframe thead th {\n",
              "        text-align: right;\n",
              "    }\n",
              "</style>\n",
              "<table border=\"1\" class=\"dataframe\">\n",
              "  <thead>\n",
              "    <tr style=\"text-align: right;\">\n",
              "      <th></th>\n",
              "      <th>Year</th>\n",
              "      <th>State(Abb)</th>\n",
              "      <th>State</th>\n",
              "      <th>Question</th>\n",
              "      <th>Proportion(%)</th>\n",
              "      <th>Size</th>\n",
              "      <th>Total</th>\n",
              "      <th>Age</th>\n",
              "      <th>Education</th>\n",
              "      <th>Sex</th>\n",
              "      <th>Income</th>\n",
              "      <th>Race/Ethnicity</th>\n",
              "      <th>Location</th>\n",
              "      <th>Category</th>\n",
              "    </tr>\n",
              "  </thead>\n",
              "  <tbody>\n",
              "  </tbody>\n",
              "</table>\n",
              "</div>\n",
              "    <div class=\"colab-df-buttons\">\n",
              "\n",
              "  <div class=\"colab-df-container\">\n",
              "    <button class=\"colab-df-convert\" onclick=\"convertToInteractive('df-11f317c8-6bc7-4e10-b8b1-dfe17e3a1b49')\"\n",
              "            title=\"Convert this dataframe to an interactive table.\"\n",
              "            style=\"display:none;\">\n",
              "\n",
              "  <svg xmlns=\"http://www.w3.org/2000/svg\" height=\"24px\" viewBox=\"0 -960 960 960\">\n",
              "    <path d=\"M120-120v-720h720v720H120Zm60-500h600v-160H180v160Zm220 220h160v-160H400v160Zm0 220h160v-160H400v160ZM180-400h160v-160H180v160Zm440 0h160v-160H620v160ZM180-180h160v-160H180v160Zm440 0h160v-160H620v160Z\"/>\n",
              "  </svg>\n",
              "    </button>\n",
              "\n",
              "  <style>\n",
              "    .colab-df-container {\n",
              "      display:flex;\n",
              "      gap: 12px;\n",
              "    }\n",
              "\n",
              "    .colab-df-convert {\n",
              "      background-color: #E8F0FE;\n",
              "      border: none;\n",
              "      border-radius: 50%;\n",
              "      cursor: pointer;\n",
              "      display: none;\n",
              "      fill: #1967D2;\n",
              "      height: 32px;\n",
              "      padding: 0 0 0 0;\n",
              "      width: 32px;\n",
              "    }\n",
              "\n",
              "    .colab-df-convert:hover {\n",
              "      background-color: #E2EBFA;\n",
              "      box-shadow: 0px 1px 2px rgba(60, 64, 67, 0.3), 0px 1px 3px 1px rgba(60, 64, 67, 0.15);\n",
              "      fill: #174EA6;\n",
              "    }\n",
              "\n",
              "    .colab-df-buttons div {\n",
              "      margin-bottom: 4px;\n",
              "    }\n",
              "\n",
              "    [theme=dark] .colab-df-convert {\n",
              "      background-color: #3B4455;\n",
              "      fill: #D2E3FC;\n",
              "    }\n",
              "\n",
              "    [theme=dark] .colab-df-convert:hover {\n",
              "      background-color: #434B5C;\n",
              "      box-shadow: 0px 1px 3px 1px rgba(0, 0, 0, 0.15);\n",
              "      filter: drop-shadow(0px 1px 2px rgba(0, 0, 0, 0.3));\n",
              "      fill: #FFFFFF;\n",
              "    }\n",
              "  </style>\n",
              "\n",
              "    <script>\n",
              "      const buttonEl =\n",
              "        document.querySelector('#df-11f317c8-6bc7-4e10-b8b1-dfe17e3a1b49 button.colab-df-convert');\n",
              "      buttonEl.style.display =\n",
              "        google.colab.kernel.accessAllowed ? 'block' : 'none';\n",
              "\n",
              "      async function convertToInteractive(key) {\n",
              "        const element = document.querySelector('#df-11f317c8-6bc7-4e10-b8b1-dfe17e3a1b49');\n",
              "        const dataTable =\n",
              "          await google.colab.kernel.invokeFunction('convertToInteractive',\n",
              "                                                    [key], {});\n",
              "        if (!dataTable) return;\n",
              "\n",
              "        const docLinkHtml = 'Like what you see? Visit the ' +\n",
              "          '<a target=\"_blank\" href=https://colab.research.google.com/notebooks/data_table.ipynb>data table notebook</a>'\n",
              "          + ' to learn more about interactive tables.';\n",
              "        element.innerHTML = '';\n",
              "        dataTable['output_type'] = 'display_data';\n",
              "        await google.colab.output.renderOutput(dataTable, element);\n",
              "        const docLink = document.createElement('div');\n",
              "        docLink.innerHTML = docLinkHtml;\n",
              "        element.appendChild(docLink);\n",
              "      }\n",
              "    </script>\n",
              "  </div>\n",
              "\n",
              "\n",
              "    </div>\n",
              "  </div>\n"
            ],
            "application/vnd.google.colaboratory.intrinsic+json": {
              "type": "dataframe",
              "repr_error": "Out of range float values are not JSON compliant: nan"
            }
          },
          "metadata": {},
          "execution_count": 111
        }
      ]
    },
    {
      "cell_type": "markdown",
      "source": [
        "# **First 5 Rows of Cleaned Dataset**"
      ],
      "metadata": {
        "id": "jEMtUIg0neyl"
      }
    },
    {
      "cell_type": "code",
      "source": [
        "df_2016_2023.head(3)"
      ],
      "metadata": {
        "colab": {
          "base_uri": "https://localhost:8080/",
          "height": 295
        },
        "id": "y8jcxDhynlIG",
        "outputId": "abff920c-19aa-4c18-f95b-2ae60d77e802"
      },
      "execution_count": 42,
      "outputs": [
        {
          "output_type": "execute_result",
          "data": {
            "text/plain": [
              "   Year State(Abb)                 State       Question  Proportion(%)  \\\n",
              "0  2016         US              National  Overweight(%)           41.0   \n",
              "1  2016         DC  District of Columbia     Obesity(%)           27.0   \n",
              "2  2016         IN               Indiana  Inactivity(%)           16.4   \n",
              "3  2016         NM            New Mexico     Obesity(%)           29.8   \n",
              "4  2016         NM            New Mexico  Overweight(%)           41.1   \n",
              "\n",
              "      Size Total      Age Education   Sex Income Race/Ethnicity  \\\n",
              "0  198,440   NaN      NaN       NaN  Male    NaN            NaN   \n",
              "1      621   NaN  45 - 54       NaN   NaN    NaN            NaN   \n",
              "2      458   NaN  18 - 24       NaN   NaN    NaN            NaN   \n",
              "3    1,736   NaN      NaN       NaN   NaN    NaN       Hispanic   \n",
              "4    2,485   NaN      NaN       NaN  Male    NaN            NaN   \n",
              "\n",
              "                         Location Category  \n",
              "0                             NaN      SEX  \n",
              "1   (38.890371385, -77.031961127)    AGEYR  \n",
              "2   (39.766910452, -86.149960194)    AGEYR  \n",
              "3  (34.520880952, -106.240580985)     RACE  \n",
              "4  (34.520880952, -106.240580985)      SEX  "
            ],
            "text/html": [
              "\n",
              "  <div id=\"df-92dc3749-d272-46f1-88dc-7f1ba2e02637\" class=\"colab-df-container\">\n",
              "    <div>\n",
              "<style scoped>\n",
              "    .dataframe tbody tr th:only-of-type {\n",
              "        vertical-align: middle;\n",
              "    }\n",
              "\n",
              "    .dataframe tbody tr th {\n",
              "        vertical-align: top;\n",
              "    }\n",
              "\n",
              "    .dataframe thead th {\n",
              "        text-align: right;\n",
              "    }\n",
              "</style>\n",
              "<table border=\"1\" class=\"dataframe\">\n",
              "  <thead>\n",
              "    <tr style=\"text-align: right;\">\n",
              "      <th></th>\n",
              "      <th>Year</th>\n",
              "      <th>State(Abb)</th>\n",
              "      <th>State</th>\n",
              "      <th>Question</th>\n",
              "      <th>Proportion(%)</th>\n",
              "      <th>Size</th>\n",
              "      <th>Total</th>\n",
              "      <th>Age</th>\n",
              "      <th>Education</th>\n",
              "      <th>Sex</th>\n",
              "      <th>Income</th>\n",
              "      <th>Race/Ethnicity</th>\n",
              "      <th>Location</th>\n",
              "      <th>Category</th>\n",
              "    </tr>\n",
              "  </thead>\n",
              "  <tbody>\n",
              "    <tr>\n",
              "      <th>0</th>\n",
              "      <td>2016</td>\n",
              "      <td>US</td>\n",
              "      <td>National</td>\n",
              "      <td>Overweight(%)</td>\n",
              "      <td>41.0</td>\n",
              "      <td>198,440</td>\n",
              "      <td>NaN</td>\n",
              "      <td>NaN</td>\n",
              "      <td>NaN</td>\n",
              "      <td>Male</td>\n",
              "      <td>NaN</td>\n",
              "      <td>NaN</td>\n",
              "      <td>NaN</td>\n",
              "      <td>SEX</td>\n",
              "    </tr>\n",
              "    <tr>\n",
              "      <th>1</th>\n",
              "      <td>2016</td>\n",
              "      <td>DC</td>\n",
              "      <td>District of Columbia</td>\n",
              "      <td>Obesity(%)</td>\n",
              "      <td>27.0</td>\n",
              "      <td>621</td>\n",
              "      <td>NaN</td>\n",
              "      <td>45 - 54</td>\n",
              "      <td>NaN</td>\n",
              "      <td>NaN</td>\n",
              "      <td>NaN</td>\n",
              "      <td>NaN</td>\n",
              "      <td>(38.890371385, -77.031961127)</td>\n",
              "      <td>AGEYR</td>\n",
              "    </tr>\n",
              "    <tr>\n",
              "      <th>2</th>\n",
              "      <td>2016</td>\n",
              "      <td>IN</td>\n",
              "      <td>Indiana</td>\n",
              "      <td>Inactivity(%)</td>\n",
              "      <td>16.4</td>\n",
              "      <td>458</td>\n",
              "      <td>NaN</td>\n",
              "      <td>18 - 24</td>\n",
              "      <td>NaN</td>\n",
              "      <td>NaN</td>\n",
              "      <td>NaN</td>\n",
              "      <td>NaN</td>\n",
              "      <td>(39.766910452, -86.149960194)</td>\n",
              "      <td>AGEYR</td>\n",
              "    </tr>\n",
              "    <tr>\n",
              "      <th>3</th>\n",
              "      <td>2016</td>\n",
              "      <td>NM</td>\n",
              "      <td>New Mexico</td>\n",
              "      <td>Obesity(%)</td>\n",
              "      <td>29.8</td>\n",
              "      <td>1,736</td>\n",
              "      <td>NaN</td>\n",
              "      <td>NaN</td>\n",
              "      <td>NaN</td>\n",
              "      <td>NaN</td>\n",
              "      <td>NaN</td>\n",
              "      <td>Hispanic</td>\n",
              "      <td>(34.520880952, -106.240580985)</td>\n",
              "      <td>RACE</td>\n",
              "    </tr>\n",
              "    <tr>\n",
              "      <th>4</th>\n",
              "      <td>2016</td>\n",
              "      <td>NM</td>\n",
              "      <td>New Mexico</td>\n",
              "      <td>Overweight(%)</td>\n",
              "      <td>41.1</td>\n",
              "      <td>2,485</td>\n",
              "      <td>NaN</td>\n",
              "      <td>NaN</td>\n",
              "      <td>NaN</td>\n",
              "      <td>Male</td>\n",
              "      <td>NaN</td>\n",
              "      <td>NaN</td>\n",
              "      <td>(34.520880952, -106.240580985)</td>\n",
              "      <td>SEX</td>\n",
              "    </tr>\n",
              "  </tbody>\n",
              "</table>\n",
              "</div>\n",
              "    <div class=\"colab-df-buttons\">\n",
              "\n",
              "  <div class=\"colab-df-container\">\n",
              "    <button class=\"colab-df-convert\" onclick=\"convertToInteractive('df-92dc3749-d272-46f1-88dc-7f1ba2e02637')\"\n",
              "            title=\"Convert this dataframe to an interactive table.\"\n",
              "            style=\"display:none;\">\n",
              "\n",
              "  <svg xmlns=\"http://www.w3.org/2000/svg\" height=\"24px\" viewBox=\"0 -960 960 960\">\n",
              "    <path d=\"M120-120v-720h720v720H120Zm60-500h600v-160H180v160Zm220 220h160v-160H400v160Zm0 220h160v-160H400v160ZM180-400h160v-160H180v160Zm440 0h160v-160H620v160ZM180-180h160v-160H180v160Zm440 0h160v-160H620v160Z\"/>\n",
              "  </svg>\n",
              "    </button>\n",
              "\n",
              "  <style>\n",
              "    .colab-df-container {\n",
              "      display:flex;\n",
              "      gap: 12px;\n",
              "    }\n",
              "\n",
              "    .colab-df-convert {\n",
              "      background-color: #E8F0FE;\n",
              "      border: none;\n",
              "      border-radius: 50%;\n",
              "      cursor: pointer;\n",
              "      display: none;\n",
              "      fill: #1967D2;\n",
              "      height: 32px;\n",
              "      padding: 0 0 0 0;\n",
              "      width: 32px;\n",
              "    }\n",
              "\n",
              "    .colab-df-convert:hover {\n",
              "      background-color: #E2EBFA;\n",
              "      box-shadow: 0px 1px 2px rgba(60, 64, 67, 0.3), 0px 1px 3px 1px rgba(60, 64, 67, 0.15);\n",
              "      fill: #174EA6;\n",
              "    }\n",
              "\n",
              "    .colab-df-buttons div {\n",
              "      margin-bottom: 4px;\n",
              "    }\n",
              "\n",
              "    [theme=dark] .colab-df-convert {\n",
              "      background-color: #3B4455;\n",
              "      fill: #D2E3FC;\n",
              "    }\n",
              "\n",
              "    [theme=dark] .colab-df-convert:hover {\n",
              "      background-color: #434B5C;\n",
              "      box-shadow: 0px 1px 3px 1px rgba(0, 0, 0, 0.15);\n",
              "      filter: drop-shadow(0px 1px 2px rgba(0, 0, 0, 0.3));\n",
              "      fill: #FFFFFF;\n",
              "    }\n",
              "  </style>\n",
              "\n",
              "    <script>\n",
              "      const buttonEl =\n",
              "        document.querySelector('#df-92dc3749-d272-46f1-88dc-7f1ba2e02637 button.colab-df-convert');\n",
              "      buttonEl.style.display =\n",
              "        google.colab.kernel.accessAllowed ? 'block' : 'none';\n",
              "\n",
              "      async function convertToInteractive(key) {\n",
              "        const element = document.querySelector('#df-92dc3749-d272-46f1-88dc-7f1ba2e02637');\n",
              "        const dataTable =\n",
              "          await google.colab.kernel.invokeFunction('convertToInteractive',\n",
              "                                                    [key], {});\n",
              "        if (!dataTable) return;\n",
              "\n",
              "        const docLinkHtml = 'Like what you see? Visit the ' +\n",
              "          '<a target=\"_blank\" href=https://colab.research.google.com/notebooks/data_table.ipynb>data table notebook</a>'\n",
              "          + ' to learn more about interactive tables.';\n",
              "        element.innerHTML = '';\n",
              "        dataTable['output_type'] = 'display_data';\n",
              "        await google.colab.output.renderOutput(dataTable, element);\n",
              "        const docLink = document.createElement('div');\n",
              "        docLink.innerHTML = docLinkHtml;\n",
              "        element.appendChild(docLink);\n",
              "      }\n",
              "    </script>\n",
              "  </div>\n",
              "\n",
              "\n",
              "    <div id=\"df-f9b29a5b-75b4-4465-bd99-e9157b00e640\">\n",
              "      <button class=\"colab-df-quickchart\" onclick=\"quickchart('df-f9b29a5b-75b4-4465-bd99-e9157b00e640')\"\n",
              "                title=\"Suggest charts\"\n",
              "                style=\"display:none;\">\n",
              "\n",
              "<svg xmlns=\"http://www.w3.org/2000/svg\" height=\"24px\"viewBox=\"0 0 24 24\"\n",
              "     width=\"24px\">\n",
              "    <g>\n",
              "        <path d=\"M19 3H5c-1.1 0-2 .9-2 2v14c0 1.1.9 2 2 2h14c1.1 0 2-.9 2-2V5c0-1.1-.9-2-2-2zM9 17H7v-7h2v7zm4 0h-2V7h2v10zm4 0h-2v-4h2v4z\"/>\n",
              "    </g>\n",
              "</svg>\n",
              "      </button>\n",
              "\n",
              "<style>\n",
              "  .colab-df-quickchart {\n",
              "      --bg-color: #E8F0FE;\n",
              "      --fill-color: #1967D2;\n",
              "      --hover-bg-color: #E2EBFA;\n",
              "      --hover-fill-color: #174EA6;\n",
              "      --disabled-fill-color: #AAA;\n",
              "      --disabled-bg-color: #DDD;\n",
              "  }\n",
              "\n",
              "  [theme=dark] .colab-df-quickchart {\n",
              "      --bg-color: #3B4455;\n",
              "      --fill-color: #D2E3FC;\n",
              "      --hover-bg-color: #434B5C;\n",
              "      --hover-fill-color: #FFFFFF;\n",
              "      --disabled-bg-color: #3B4455;\n",
              "      --disabled-fill-color: #666;\n",
              "  }\n",
              "\n",
              "  .colab-df-quickchart {\n",
              "    background-color: var(--bg-color);\n",
              "    border: none;\n",
              "    border-radius: 50%;\n",
              "    cursor: pointer;\n",
              "    display: none;\n",
              "    fill: var(--fill-color);\n",
              "    height: 32px;\n",
              "    padding: 0;\n",
              "    width: 32px;\n",
              "  }\n",
              "\n",
              "  .colab-df-quickchart:hover {\n",
              "    background-color: var(--hover-bg-color);\n",
              "    box-shadow: 0 1px 2px rgba(60, 64, 67, 0.3), 0 1px 3px 1px rgba(60, 64, 67, 0.15);\n",
              "    fill: var(--button-hover-fill-color);\n",
              "  }\n",
              "\n",
              "  .colab-df-quickchart-complete:disabled,\n",
              "  .colab-df-quickchart-complete:disabled:hover {\n",
              "    background-color: var(--disabled-bg-color);\n",
              "    fill: var(--disabled-fill-color);\n",
              "    box-shadow: none;\n",
              "  }\n",
              "\n",
              "  .colab-df-spinner {\n",
              "    border: 2px solid var(--fill-color);\n",
              "    border-color: transparent;\n",
              "    border-bottom-color: var(--fill-color);\n",
              "    animation:\n",
              "      spin 1s steps(1) infinite;\n",
              "  }\n",
              "\n",
              "  @keyframes spin {\n",
              "    0% {\n",
              "      border-color: transparent;\n",
              "      border-bottom-color: var(--fill-color);\n",
              "      border-left-color: var(--fill-color);\n",
              "    }\n",
              "    20% {\n",
              "      border-color: transparent;\n",
              "      border-left-color: var(--fill-color);\n",
              "      border-top-color: var(--fill-color);\n",
              "    }\n",
              "    30% {\n",
              "      border-color: transparent;\n",
              "      border-left-color: var(--fill-color);\n",
              "      border-top-color: var(--fill-color);\n",
              "      border-right-color: var(--fill-color);\n",
              "    }\n",
              "    40% {\n",
              "      border-color: transparent;\n",
              "      border-right-color: var(--fill-color);\n",
              "      border-top-color: var(--fill-color);\n",
              "    }\n",
              "    60% {\n",
              "      border-color: transparent;\n",
              "      border-right-color: var(--fill-color);\n",
              "    }\n",
              "    80% {\n",
              "      border-color: transparent;\n",
              "      border-right-color: var(--fill-color);\n",
              "      border-bottom-color: var(--fill-color);\n",
              "    }\n",
              "    90% {\n",
              "      border-color: transparent;\n",
              "      border-bottom-color: var(--fill-color);\n",
              "    }\n",
              "  }\n",
              "</style>\n",
              "\n",
              "      <script>\n",
              "        async function quickchart(key) {\n",
              "          const quickchartButtonEl =\n",
              "            document.querySelector('#' + key + ' button');\n",
              "          quickchartButtonEl.disabled = true;  // To prevent multiple clicks.\n",
              "          quickchartButtonEl.classList.add('colab-df-spinner');\n",
              "          try {\n",
              "            const charts = await google.colab.kernel.invokeFunction(\n",
              "                'suggestCharts', [key], {});\n",
              "          } catch (error) {\n",
              "            console.error('Error during call to suggestCharts:', error);\n",
              "          }\n",
              "          quickchartButtonEl.classList.remove('colab-df-spinner');\n",
              "          quickchartButtonEl.classList.add('colab-df-quickchart-complete');\n",
              "        }\n",
              "        (() => {\n",
              "          let quickchartButtonEl =\n",
              "            document.querySelector('#df-f9b29a5b-75b4-4465-bd99-e9157b00e640 button');\n",
              "          quickchartButtonEl.style.display =\n",
              "            google.colab.kernel.accessAllowed ? 'block' : 'none';\n",
              "        })();\n",
              "      </script>\n",
              "    </div>\n",
              "\n",
              "    </div>\n",
              "  </div>\n"
            ],
            "application/vnd.google.colaboratory.intrinsic+json": {
              "type": "dataframe",
              "variable_name": "df_2016_2023",
              "summary": "{\n  \"name\": \"df_2016_2023\",\n  \"rows\": 64344,\n  \"fields\": [\n    {\n      \"column\": \"Year\",\n      \"properties\": {\n        \"dtype\": \"number\",\n        \"std\": 2,\n        \"min\": 2016,\n        \"max\": 2023,\n        \"num_unique_values\": 8,\n        \"samples\": [\n          2017,\n          2021,\n          2016\n        ],\n        \"semantic_type\": \"\",\n        \"description\": \"\"\n      }\n    },\n    {\n      \"column\": \"State(Abb)\",\n      \"properties\": {\n        \"dtype\": \"category\",\n        \"num_unique_values\": 55,\n        \"samples\": [\n          \"MN\",\n          \"ID\",\n          \"MO\"\n        ],\n        \"semantic_type\": \"\",\n        \"description\": \"\"\n      }\n    },\n    {\n      \"column\": \"State\",\n      \"properties\": {\n        \"dtype\": \"category\",\n        \"num_unique_values\": 55,\n        \"samples\": [\n          \"Minnesota\",\n          \"Idaho\",\n          \"Missouri\"\n        ],\n        \"semantic_type\": \"\",\n        \"description\": \"\"\n      }\n    },\n    {\n      \"column\": \"Question\",\n      \"properties\": {\n        \"dtype\": \"category\",\n        \"num_unique_values\": 9,\n        \"samples\": [\n          \"300 Aero Train(%)\",\n          \"Obesity(%)\",\n          \"Daily Veg(%)\"\n        ],\n        \"semantic_type\": \"\",\n        \"description\": \"\"\n      }\n    },\n    {\n      \"column\": \"Proportion(%)\",\n      \"properties\": {\n        \"dtype\": \"number\",\n        \"std\": 10.428758062959782,\n        \"min\": 1.7,\n        \"max\": 85.3,\n        \"num_unique_values\": 705,\n        \"samples\": [\n          45.3,\n          19.3,\n          30.1\n        ],\n        \"semantic_type\": \"\",\n        \"description\": \"\"\n      }\n    },\n    {\n      \"column\": \"Size\",\n      \"properties\": {\n        \"dtype\": \"category\",\n        \"num_unique_values\": 8172,\n        \"samples\": [\n          \"4,864\",\n          \"55,837\",\n          \"6,027\"\n        ],\n        \"semantic_type\": \"\",\n        \"description\": \"\"\n      }\n    },\n    {\n      \"column\": \"Total\",\n      \"properties\": {\n        \"dtype\": \"category\",\n        \"num_unique_values\": 1,\n        \"samples\": [\n          \"Total\"\n        ],\n        \"semantic_type\": \"\",\n        \"description\": \"\"\n      }\n    },\n    {\n      \"column\": \"Age\",\n      \"properties\": {\n        \"dtype\": \"category\",\n        \"num_unique_values\": 6,\n        \"samples\": [\n          \"45 - 54\"\n        ],\n        \"semantic_type\": \"\",\n        \"description\": \"\"\n      }\n    },\n    {\n      \"column\": \"Education\",\n      \"properties\": {\n        \"dtype\": \"category\",\n        \"num_unique_values\": 4,\n        \"samples\": [\n          \"High school graduate\"\n        ],\n        \"semantic_type\": \"\",\n        \"description\": \"\"\n      }\n    },\n    {\n      \"column\": \"Sex\",\n      \"properties\": {\n        \"dtype\": \"category\",\n        \"num_unique_values\": 2,\n        \"samples\": [\n          \"Female\"\n        ],\n        \"semantic_type\": \"\",\n        \"description\": \"\"\n      }\n    },\n    {\n      \"column\": \"Income\",\n      \"properties\": {\n        \"dtype\": \"category\",\n        \"num_unique_values\": 7,\n        \"samples\": [\n          \"Data not reported\"\n        ],\n        \"semantic_type\": \"\",\n        \"description\": \"\"\n      }\n    },\n    {\n      \"column\": \"Race/Ethnicity\",\n      \"properties\": {\n        \"dtype\": \"category\",\n        \"num_unique_values\": 8,\n        \"samples\": [\n          \"Other\"\n        ],\n        \"semantic_type\": \"\",\n        \"description\": \"\"\n      }\n    },\n    {\n      \"column\": \"Location\",\n      \"properties\": {\n        \"dtype\": \"category\",\n        \"num_unique_values\": 105,\n        \"samples\": [\n          \"(45.254228894001, -68.985031336)\"\n        ],\n        \"semantic_type\": \"\",\n        \"description\": \"\"\n      }\n    },\n    {\n      \"column\": \"Category\",\n      \"properties\": {\n        \"dtype\": \"category\",\n        \"num_unique_values\": 6,\n        \"samples\": [\n          \"SEX\"\n        ],\n        \"semantic_type\": \"\",\n        \"description\": \"\"\n      }\n    }\n  ]\n}"
            }
          },
          "metadata": {},
          "execution_count": 42
        }
      ]
    },
    {
      "cell_type": "markdown",
      "source": [
        "# **Exploratory Data Analysis (EDA)**"
      ],
      "metadata": {
        "id": "sGFk_PAYEkgb"
      }
    },
    {
      "cell_type": "markdown",
      "source": [
        "## Basic Info of the DataFrame"
      ],
      "metadata": {
        "id": "1GvLPzxf-C3I"
      }
    },
    {
      "cell_type": "code",
      "source": [
        "# shape of df\n",
        "df_2016_2023.shape"
      ],
      "metadata": {
        "colab": {
          "base_uri": "https://localhost:8080/"
        },
        "id": "jtRqg509FZyU",
        "outputId": "3368b2dc-051a-48df-ed01-3d243505b17d"
      },
      "execution_count": 112,
      "outputs": [
        {
          "output_type": "execute_result",
          "data": {
            "text/plain": [
              "(64344, 14)"
            ]
          },
          "metadata": {},
          "execution_count": 112
        }
      ]
    },
    {
      "cell_type": "code",
      "source": [
        "# info of df\n",
        "df_2016_2023.info()"
      ],
      "metadata": {
        "colab": {
          "base_uri": "https://localhost:8080/"
        },
        "id": "x8fF6Hnu-IHj",
        "outputId": "33f6cf3f-42ef-40b1-b4e7-461e1d7795ec"
      },
      "execution_count": 113,
      "outputs": [
        {
          "output_type": "stream",
          "name": "stdout",
          "text": [
            "<class 'pandas.core.frame.DataFrame'>\n",
            "RangeIndex: 64344 entries, 0 to 64343\n",
            "Data columns (total 14 columns):\n",
            " #   Column          Non-Null Count  Dtype  \n",
            "---  ------          --------------  -----  \n",
            " 0   Year            64344 non-null  int64  \n",
            " 1   State(Abb)      64344 non-null  object \n",
            " 2   State           64344 non-null  object \n",
            " 3   Question        64344 non-null  object \n",
            " 4   Proportion(%)   57330 non-null  float64\n",
            " 5   Size            64344 non-null  int64  \n",
            " 6   Total           2298 non-null   object \n",
            " 7   Age             13788 non-null  object \n",
            " 8   Education       9192 non-null   object \n",
            " 9   Sex             4596 non-null   object \n",
            " 10  Income          16086 non-null  object \n",
            " 11  Race/Ethnicity  18384 non-null  object \n",
            " 12  Location        63168 non-null  object \n",
            " 13  Category        64344 non-null  object \n",
            "dtypes: float64(1), int64(2), object(11)\n",
            "memory usage: 6.9+ MB\n"
          ]
        }
      ]
    },
    {
      "cell_type": "code",
      "source": [
        "# 1st row\n",
        "df_2016_2023.head(1)"
      ],
      "metadata": {
        "colab": {
          "base_uri": "https://localhost:8080/",
          "height": 100
        },
        "id": "CBKNGhBw-N8S",
        "outputId": "0d007b5f-1313-4c3a-eab7-75c76e8742a4"
      },
      "execution_count": 114,
      "outputs": [
        {
          "output_type": "execute_result",
          "data": {
            "text/plain": [
              "   Year State(Abb)     State       Question  Proportion(%)    Size Total  Age  \\\n",
              "0  2016         US  National  Overweight(%)           41.0  198440   NaN  NaN   \n",
              "\n",
              "  Education   Sex Income Race/Ethnicity Location Category  \n",
              "0       NaN  Male    NaN            NaN      NaN      SEX  "
            ],
            "text/html": [
              "\n",
              "  <div id=\"df-80afd199-ba4f-4dc7-9bea-90f4eecd65fa\" class=\"colab-df-container\">\n",
              "    <div>\n",
              "<style scoped>\n",
              "    .dataframe tbody tr th:only-of-type {\n",
              "        vertical-align: middle;\n",
              "    }\n",
              "\n",
              "    .dataframe tbody tr th {\n",
              "        vertical-align: top;\n",
              "    }\n",
              "\n",
              "    .dataframe thead th {\n",
              "        text-align: right;\n",
              "    }\n",
              "</style>\n",
              "<table border=\"1\" class=\"dataframe\">\n",
              "  <thead>\n",
              "    <tr style=\"text-align: right;\">\n",
              "      <th></th>\n",
              "      <th>Year</th>\n",
              "      <th>State(Abb)</th>\n",
              "      <th>State</th>\n",
              "      <th>Question</th>\n",
              "      <th>Proportion(%)</th>\n",
              "      <th>Size</th>\n",
              "      <th>Total</th>\n",
              "      <th>Age</th>\n",
              "      <th>Education</th>\n",
              "      <th>Sex</th>\n",
              "      <th>Income</th>\n",
              "      <th>Race/Ethnicity</th>\n",
              "      <th>Location</th>\n",
              "      <th>Category</th>\n",
              "    </tr>\n",
              "  </thead>\n",
              "  <tbody>\n",
              "    <tr>\n",
              "      <th>0</th>\n",
              "      <td>2016</td>\n",
              "      <td>US</td>\n",
              "      <td>National</td>\n",
              "      <td>Overweight(%)</td>\n",
              "      <td>41.0</td>\n",
              "      <td>198440</td>\n",
              "      <td>NaN</td>\n",
              "      <td>NaN</td>\n",
              "      <td>NaN</td>\n",
              "      <td>Male</td>\n",
              "      <td>NaN</td>\n",
              "      <td>NaN</td>\n",
              "      <td>NaN</td>\n",
              "      <td>SEX</td>\n",
              "    </tr>\n",
              "  </tbody>\n",
              "</table>\n",
              "</div>\n",
              "    <div class=\"colab-df-buttons\">\n",
              "\n",
              "  <div class=\"colab-df-container\">\n",
              "    <button class=\"colab-df-convert\" onclick=\"convertToInteractive('df-80afd199-ba4f-4dc7-9bea-90f4eecd65fa')\"\n",
              "            title=\"Convert this dataframe to an interactive table.\"\n",
              "            style=\"display:none;\">\n",
              "\n",
              "  <svg xmlns=\"http://www.w3.org/2000/svg\" height=\"24px\" viewBox=\"0 -960 960 960\">\n",
              "    <path d=\"M120-120v-720h720v720H120Zm60-500h600v-160H180v160Zm220 220h160v-160H400v160Zm0 220h160v-160H400v160ZM180-400h160v-160H180v160Zm440 0h160v-160H620v160ZM180-180h160v-160H180v160Zm440 0h160v-160H620v160Z\"/>\n",
              "  </svg>\n",
              "    </button>\n",
              "\n",
              "  <style>\n",
              "    .colab-df-container {\n",
              "      display:flex;\n",
              "      gap: 12px;\n",
              "    }\n",
              "\n",
              "    .colab-df-convert {\n",
              "      background-color: #E8F0FE;\n",
              "      border: none;\n",
              "      border-radius: 50%;\n",
              "      cursor: pointer;\n",
              "      display: none;\n",
              "      fill: #1967D2;\n",
              "      height: 32px;\n",
              "      padding: 0 0 0 0;\n",
              "      width: 32px;\n",
              "    }\n",
              "\n",
              "    .colab-df-convert:hover {\n",
              "      background-color: #E2EBFA;\n",
              "      box-shadow: 0px 1px 2px rgba(60, 64, 67, 0.3), 0px 1px 3px 1px rgba(60, 64, 67, 0.15);\n",
              "      fill: #174EA6;\n",
              "    }\n",
              "\n",
              "    .colab-df-buttons div {\n",
              "      margin-bottom: 4px;\n",
              "    }\n",
              "\n",
              "    [theme=dark] .colab-df-convert {\n",
              "      background-color: #3B4455;\n",
              "      fill: #D2E3FC;\n",
              "    }\n",
              "\n",
              "    [theme=dark] .colab-df-convert:hover {\n",
              "      background-color: #434B5C;\n",
              "      box-shadow: 0px 1px 3px 1px rgba(0, 0, 0, 0.15);\n",
              "      filter: drop-shadow(0px 1px 2px rgba(0, 0, 0, 0.3));\n",
              "      fill: #FFFFFF;\n",
              "    }\n",
              "  </style>\n",
              "\n",
              "    <script>\n",
              "      const buttonEl =\n",
              "        document.querySelector('#df-80afd199-ba4f-4dc7-9bea-90f4eecd65fa button.colab-df-convert');\n",
              "      buttonEl.style.display =\n",
              "        google.colab.kernel.accessAllowed ? 'block' : 'none';\n",
              "\n",
              "      async function convertToInteractive(key) {\n",
              "        const element = document.querySelector('#df-80afd199-ba4f-4dc7-9bea-90f4eecd65fa');\n",
              "        const dataTable =\n",
              "          await google.colab.kernel.invokeFunction('convertToInteractive',\n",
              "                                                    [key], {});\n",
              "        if (!dataTable) return;\n",
              "\n",
              "        const docLinkHtml = 'Like what you see? Visit the ' +\n",
              "          '<a target=\"_blank\" href=https://colab.research.google.com/notebooks/data_table.ipynb>data table notebook</a>'\n",
              "          + ' to learn more about interactive tables.';\n",
              "        element.innerHTML = '';\n",
              "        dataTable['output_type'] = 'display_data';\n",
              "        await google.colab.output.renderOutput(dataTable, element);\n",
              "        const docLink = document.createElement('div');\n",
              "        docLink.innerHTML = docLinkHtml;\n",
              "        element.appendChild(docLink);\n",
              "      }\n",
              "    </script>\n",
              "  </div>\n",
              "\n",
              "\n",
              "    </div>\n",
              "  </div>\n"
            ],
            "application/vnd.google.colaboratory.intrinsic+json": {
              "type": "dataframe",
              "variable_name": "df_2016_2023",
              "summary": "{\n  \"name\": \"df_2016_2023\",\n  \"rows\": 64344,\n  \"fields\": [\n    {\n      \"column\": \"Year\",\n      \"properties\": {\n        \"dtype\": \"number\",\n        \"std\": 2,\n        \"min\": 2016,\n        \"max\": 2023,\n        \"num_unique_values\": 8,\n        \"samples\": [\n          2017,\n          2021,\n          2016\n        ],\n        \"semantic_type\": \"\",\n        \"description\": \"\"\n      }\n    },\n    {\n      \"column\": \"State(Abb)\",\n      \"properties\": {\n        \"dtype\": \"category\",\n        \"num_unique_values\": 55,\n        \"samples\": [\n          \"MN\",\n          \"ID\",\n          \"MO\"\n        ],\n        \"semantic_type\": \"\",\n        \"description\": \"\"\n      }\n    },\n    {\n      \"column\": \"State\",\n      \"properties\": {\n        \"dtype\": \"category\",\n        \"num_unique_values\": 55,\n        \"samples\": [\n          \"Minnesota\",\n          \"Idaho\",\n          \"Missouri\"\n        ],\n        \"semantic_type\": \"\",\n        \"description\": \"\"\n      }\n    },\n    {\n      \"column\": \"Question\",\n      \"properties\": {\n        \"dtype\": \"category\",\n        \"num_unique_values\": 9,\n        \"samples\": [\n          \"300 Aero Train(%)\",\n          \"Obesity(%)\",\n          \"Daily Veg(%)\"\n        ],\n        \"semantic_type\": \"\",\n        \"description\": \"\"\n      }\n    },\n    {\n      \"column\": \"Proportion(%)\",\n      \"properties\": {\n        \"dtype\": \"number\",\n        \"std\": 10.428758062959782,\n        \"min\": 1.7,\n        \"max\": 85.3,\n        \"num_unique_values\": 705,\n        \"samples\": [\n          45.3,\n          19.3,\n          30.1\n        ],\n        \"semantic_type\": \"\",\n        \"description\": \"\"\n      }\n    },\n    {\n      \"column\": \"Size\",\n      \"properties\": {\n        \"dtype\": \"number\",\n        \"std\": 16759,\n        \"min\": 0,\n        \"max\": 476876,\n        \"num_unique_values\": 8173,\n        \"samples\": [\n          1210,\n          3636,\n          1318\n        ],\n        \"semantic_type\": \"\",\n        \"description\": \"\"\n      }\n    },\n    {\n      \"column\": \"Total\",\n      \"properties\": {\n        \"dtype\": \"category\",\n        \"num_unique_values\": 1,\n        \"samples\": [\n          \"Total\"\n        ],\n        \"semantic_type\": \"\",\n        \"description\": \"\"\n      }\n    },\n    {\n      \"column\": \"Age\",\n      \"properties\": {\n        \"dtype\": \"category\",\n        \"num_unique_values\": 6,\n        \"samples\": [\n          \"45 - 54\"\n        ],\n        \"semantic_type\": \"\",\n        \"description\": \"\"\n      }\n    },\n    {\n      \"column\": \"Education\",\n      \"properties\": {\n        \"dtype\": \"category\",\n        \"num_unique_values\": 4,\n        \"samples\": [\n          \"High school graduate\"\n        ],\n        \"semantic_type\": \"\",\n        \"description\": \"\"\n      }\n    },\n    {\n      \"column\": \"Sex\",\n      \"properties\": {\n        \"dtype\": \"category\",\n        \"num_unique_values\": 2,\n        \"samples\": [\n          \"Female\"\n        ],\n        \"semantic_type\": \"\",\n        \"description\": \"\"\n      }\n    },\n    {\n      \"column\": \"Income\",\n      \"properties\": {\n        \"dtype\": \"category\",\n        \"num_unique_values\": 7,\n        \"samples\": [\n          \"Data not reported\"\n        ],\n        \"semantic_type\": \"\",\n        \"description\": \"\"\n      }\n    },\n    {\n      \"column\": \"Race/Ethnicity\",\n      \"properties\": {\n        \"dtype\": \"category\",\n        \"num_unique_values\": 8,\n        \"samples\": [\n          \"Other\"\n        ],\n        \"semantic_type\": \"\",\n        \"description\": \"\"\n      }\n    },\n    {\n      \"column\": \"Location\",\n      \"properties\": {\n        \"dtype\": \"category\",\n        \"num_unique_values\": 105,\n        \"samples\": [\n          \"(45.254228894001, -68.985031336)\"\n        ],\n        \"semantic_type\": \"\",\n        \"description\": \"\"\n      }\n    },\n    {\n      \"column\": \"Category\",\n      \"properties\": {\n        \"dtype\": \"category\",\n        \"num_unique_values\": 6,\n        \"samples\": [\n          \"SEX\"\n        ],\n        \"semantic_type\": \"\",\n        \"description\": \"\"\n      }\n    }\n  ]\n}"
            }
          },
          "metadata": {},
          "execution_count": 114
        }
      ]
    },
    {
      "cell_type": "code",
      "source": [
        "# prop. of null values in each column\n",
        "for col in df_2016_2023.columns:\n",
        "    pct_missing = np.mean(df_2016_2023[col].isnull())\n",
        "    print('{} - {}%'.format(col, round(pct_missing*100)))"
      ],
      "metadata": {
        "colab": {
          "base_uri": "https://localhost:8080/"
        },
        "id": "LShTchwJ9Sv0",
        "outputId": "7268dec8-2cb0-4297-dc90-c4170b1665d5"
      },
      "execution_count": 115,
      "outputs": [
        {
          "output_type": "stream",
          "name": "stdout",
          "text": [
            "Year - 0%\n",
            "State(Abb) - 0%\n",
            "State - 0%\n",
            "Question - 0%\n",
            "Proportion(%) - 11%\n",
            "Size - 0%\n",
            "Total - 96%\n",
            "Age - 79%\n",
            "Education - 86%\n",
            "Sex - 93%\n",
            "Income - 75%\n",
            "Race/Ethnicity - 71%\n",
            "Location - 2%\n",
            "Category - 0%\n"
          ]
        }
      ]
    },
    {
      "cell_type": "markdown",
      "source": [
        "## See Trend of Obesity Rate Over Years"
      ],
      "metadata": {
        "id": "yof0c3Kx9kDv"
      }
    },
    {
      "cell_type": "markdown",
      "source": [
        "### Extracting Subset with National Records Only\n",
        "\n",
        "* Records are complete, no interpolation needed"
      ],
      "metadata": {
        "id": "7FzogW2HDe8A"
      }
    },
    {
      "cell_type": "code",
      "source": [
        "# Extract Records of Total Demographic Only\n",
        "total_obesity = df_2016_2023[(df_2016_2023['Total'] == 'Total') & (df_2016_2023['Question'] == 'Obesity(%)')]"
      ],
      "metadata": {
        "id": "3wDpflwr9mIj"
      },
      "execution_count": 195,
      "outputs": []
    },
    {
      "cell_type": "code",
      "source": [
        "# Prop. of missing value\n",
        "pct_missing = np.mean(total_obesity['Proportion(%)'].isnull())\n",
        "pct_missing"
      ],
      "metadata": {
        "colab": {
          "base_uri": "https://localhost:8080/"
        },
        "id": "gAsg1wyN_4yD",
        "outputId": "1e38a60f-7211-4b40-9f73-fadefccc94e8"
      },
      "execution_count": 196,
      "outputs": [
        {
          "output_type": "execute_result",
          "data": {
            "text/plain": [
              "np.float64(0.0136986301369863)"
            ]
          },
          "metadata": {},
          "execution_count": 196
        }
      ]
    },
    {
      "cell_type": "code",
      "source": [
        "# Extract national data\n",
        "US_total_obesity = total_obesity[total_obesity['State(Abb)'] == 'US']"
      ],
      "metadata": {
        "id": "BMFzV0hGAETN"
      },
      "execution_count": 197,
      "outputs": []
    },
    {
      "cell_type": "markdown",
      "source": [
        "### Visualization of National Obesity Rate Trend"
      ],
      "metadata": {
        "id": "k1TTP-4iDjzb"
      }
    },
    {
      "cell_type": "code",
      "source": [
        "import plotly.express as px\n",
        "\n",
        "fig = px.line(\n",
        "    US_total_obesity,\n",
        "    x='Year',\n",
        "    y='Proportion(%)',\n",
        "    title='Trend of the U.S. Obesity Rate (%)',\n",
        "    markers=True  # Adds the individual data points on the line\n",
        ")\n",
        "\n",
        "# Optional: format axes and title\n",
        "fig.update_layout(\n",
        "    title_font_size=18,\n",
        "    title_font_family='Arial',\n",
        "    xaxis_title='Year',\n",
        "    yaxis_title='Obesity Rate (%)',\n",
        "    xaxis=dict(tickmode='linear'),  # Ensures all years are shown\n",
        "    template='plotly_white'  # Clean background\n",
        ")\n",
        "\n",
        "fig.show()"
      ],
      "metadata": {
        "colab": {
          "base_uri": "https://localhost:8080/",
          "height": 542
        },
        "id": "POhOkGQVAkKT",
        "outputId": "785739c7-e516-4c71-f456-8f7da8f05579"
      },
      "execution_count": null,
      "outputs": [
        {
          "output_type": "display_data",
          "data": {
            "text/html": [
              "<html>\n",
              "<head><meta charset=\"utf-8\" /></head>\n",
              "<body>\n",
              "    <div>            <script src=\"https://cdnjs.cloudflare.com/ajax/libs/mathjax/2.7.5/MathJax.js?config=TeX-AMS-MML_SVG\"></script><script type=\"text/javascript\">if (window.MathJax && window.MathJax.Hub && window.MathJax.Hub.Config) {window.MathJax.Hub.Config({SVG: {font: \"STIX-Web\"}});}</script>                <script type=\"text/javascript\">window.PlotlyConfig = {MathJaxConfig: 'local'};</script>\n",
              "        <script charset=\"utf-8\" src=\"https://cdn.plot.ly/plotly-2.35.2.min.js\"></script>                <div id=\"ee387b77-d2fe-4b1d-8396-b9c9e156b2a0\" class=\"plotly-graph-div\" style=\"height:525px; width:100%;\"></div>            <script type=\"text/javascript\">                                    window.PLOTLYENV=window.PLOTLYENV || {};                                    if (document.getElementById(\"ee387b77-d2fe-4b1d-8396-b9c9e156b2a0\")) {                    Plotly.newPlot(                        \"ee387b77-d2fe-4b1d-8396-b9c9e156b2a0\",                        [{\"hovertemplate\":\"Year=%{x}\\u003cbr\\u003eProportion(%)=%{y}\\u003cextra\\u003e\\u003c\\u002fextra\\u003e\",\"legendgroup\":\"\",\"line\":{\"color\":\"#636efa\",\"dash\":\"solid\"},\"marker\":{\"symbol\":\"circle\"},\"mode\":\"lines+markers\",\"name\":\"\",\"orientation\":\"v\",\"showlegend\":false,\"x\":[2016,2017,2018,2019,2020,2021,2022,2023],\"xaxis\":\"x\",\"y\":[29.6,30.1,30.9,31.4,31.9,33.0,33.3,32.8],\"yaxis\":\"y\",\"type\":\"scatter\"}],                        {\"template\":{\"data\":{\"barpolar\":[{\"marker\":{\"line\":{\"color\":\"white\",\"width\":0.5},\"pattern\":{\"fillmode\":\"overlay\",\"size\":10,\"solidity\":0.2}},\"type\":\"barpolar\"}],\"bar\":[{\"error_x\":{\"color\":\"#2a3f5f\"},\"error_y\":{\"color\":\"#2a3f5f\"},\"marker\":{\"line\":{\"color\":\"white\",\"width\":0.5},\"pattern\":{\"fillmode\":\"overlay\",\"size\":10,\"solidity\":0.2}},\"type\":\"bar\"}],\"carpet\":[{\"aaxis\":{\"endlinecolor\":\"#2a3f5f\",\"gridcolor\":\"#C8D4E3\",\"linecolor\":\"#C8D4E3\",\"minorgridcolor\":\"#C8D4E3\",\"startlinecolor\":\"#2a3f5f\"},\"baxis\":{\"endlinecolor\":\"#2a3f5f\",\"gridcolor\":\"#C8D4E3\",\"linecolor\":\"#C8D4E3\",\"minorgridcolor\":\"#C8D4E3\",\"startlinecolor\":\"#2a3f5f\"},\"type\":\"carpet\"}],\"choropleth\":[{\"colorbar\":{\"outlinewidth\":0,\"ticks\":\"\"},\"type\":\"choropleth\"}],\"contourcarpet\":[{\"colorbar\":{\"outlinewidth\":0,\"ticks\":\"\"},\"type\":\"contourcarpet\"}],\"contour\":[{\"colorbar\":{\"outlinewidth\":0,\"ticks\":\"\"},\"colorscale\":[[0.0,\"#0d0887\"],[0.1111111111111111,\"#46039f\"],[0.2222222222222222,\"#7201a8\"],[0.3333333333333333,\"#9c179e\"],[0.4444444444444444,\"#bd3786\"],[0.5555555555555556,\"#d8576b\"],[0.6666666666666666,\"#ed7953\"],[0.7777777777777778,\"#fb9f3a\"],[0.8888888888888888,\"#fdca26\"],[1.0,\"#f0f921\"]],\"type\":\"contour\"}],\"heatmapgl\":[{\"colorbar\":{\"outlinewidth\":0,\"ticks\":\"\"},\"colorscale\":[[0.0,\"#0d0887\"],[0.1111111111111111,\"#46039f\"],[0.2222222222222222,\"#7201a8\"],[0.3333333333333333,\"#9c179e\"],[0.4444444444444444,\"#bd3786\"],[0.5555555555555556,\"#d8576b\"],[0.6666666666666666,\"#ed7953\"],[0.7777777777777778,\"#fb9f3a\"],[0.8888888888888888,\"#fdca26\"],[1.0,\"#f0f921\"]],\"type\":\"heatmapgl\"}],\"heatmap\":[{\"colorbar\":{\"outlinewidth\":0,\"ticks\":\"\"},\"colorscale\":[[0.0,\"#0d0887\"],[0.1111111111111111,\"#46039f\"],[0.2222222222222222,\"#7201a8\"],[0.3333333333333333,\"#9c179e\"],[0.4444444444444444,\"#bd3786\"],[0.5555555555555556,\"#d8576b\"],[0.6666666666666666,\"#ed7953\"],[0.7777777777777778,\"#fb9f3a\"],[0.8888888888888888,\"#fdca26\"],[1.0,\"#f0f921\"]],\"type\":\"heatmap\"}],\"histogram2dcontour\":[{\"colorbar\":{\"outlinewidth\":0,\"ticks\":\"\"},\"colorscale\":[[0.0,\"#0d0887\"],[0.1111111111111111,\"#46039f\"],[0.2222222222222222,\"#7201a8\"],[0.3333333333333333,\"#9c179e\"],[0.4444444444444444,\"#bd3786\"],[0.5555555555555556,\"#d8576b\"],[0.6666666666666666,\"#ed7953\"],[0.7777777777777778,\"#fb9f3a\"],[0.8888888888888888,\"#fdca26\"],[1.0,\"#f0f921\"]],\"type\":\"histogram2dcontour\"}],\"histogram2d\":[{\"colorbar\":{\"outlinewidth\":0,\"ticks\":\"\"},\"colorscale\":[[0.0,\"#0d0887\"],[0.1111111111111111,\"#46039f\"],[0.2222222222222222,\"#7201a8\"],[0.3333333333333333,\"#9c179e\"],[0.4444444444444444,\"#bd3786\"],[0.5555555555555556,\"#d8576b\"],[0.6666666666666666,\"#ed7953\"],[0.7777777777777778,\"#fb9f3a\"],[0.8888888888888888,\"#fdca26\"],[1.0,\"#f0f921\"]],\"type\":\"histogram2d\"}],\"histogram\":[{\"marker\":{\"pattern\":{\"fillmode\":\"overlay\",\"size\":10,\"solidity\":0.2}},\"type\":\"histogram\"}],\"mesh3d\":[{\"colorbar\":{\"outlinewidth\":0,\"ticks\":\"\"},\"type\":\"mesh3d\"}],\"parcoords\":[{\"line\":{\"colorbar\":{\"outlinewidth\":0,\"ticks\":\"\"}},\"type\":\"parcoords\"}],\"pie\":[{\"automargin\":true,\"type\":\"pie\"}],\"scatter3d\":[{\"line\":{\"colorbar\":{\"outlinewidth\":0,\"ticks\":\"\"}},\"marker\":{\"colorbar\":{\"outlinewidth\":0,\"ticks\":\"\"}},\"type\":\"scatter3d\"}],\"scattercarpet\":[{\"marker\":{\"colorbar\":{\"outlinewidth\":0,\"ticks\":\"\"}},\"type\":\"scattercarpet\"}],\"scattergeo\":[{\"marker\":{\"colorbar\":{\"outlinewidth\":0,\"ticks\":\"\"}},\"type\":\"scattergeo\"}],\"scattergl\":[{\"marker\":{\"colorbar\":{\"outlinewidth\":0,\"ticks\":\"\"}},\"type\":\"scattergl\"}],\"scattermapbox\":[{\"marker\":{\"colorbar\":{\"outlinewidth\":0,\"ticks\":\"\"}},\"type\":\"scattermapbox\"}],\"scatterpolargl\":[{\"marker\":{\"colorbar\":{\"outlinewidth\":0,\"ticks\":\"\"}},\"type\":\"scatterpolargl\"}],\"scatterpolar\":[{\"marker\":{\"colorbar\":{\"outlinewidth\":0,\"ticks\":\"\"}},\"type\":\"scatterpolar\"}],\"scatter\":[{\"fillpattern\":{\"fillmode\":\"overlay\",\"size\":10,\"solidity\":0.2},\"type\":\"scatter\"}],\"scatterternary\":[{\"marker\":{\"colorbar\":{\"outlinewidth\":0,\"ticks\":\"\"}},\"type\":\"scatterternary\"}],\"surface\":[{\"colorbar\":{\"outlinewidth\":0,\"ticks\":\"\"},\"colorscale\":[[0.0,\"#0d0887\"],[0.1111111111111111,\"#46039f\"],[0.2222222222222222,\"#7201a8\"],[0.3333333333333333,\"#9c179e\"],[0.4444444444444444,\"#bd3786\"],[0.5555555555555556,\"#d8576b\"],[0.6666666666666666,\"#ed7953\"],[0.7777777777777778,\"#fb9f3a\"],[0.8888888888888888,\"#fdca26\"],[1.0,\"#f0f921\"]],\"type\":\"surface\"}],\"table\":[{\"cells\":{\"fill\":{\"color\":\"#EBF0F8\"},\"line\":{\"color\":\"white\"}},\"header\":{\"fill\":{\"color\":\"#C8D4E3\"},\"line\":{\"color\":\"white\"}},\"type\":\"table\"}]},\"layout\":{\"annotationdefaults\":{\"arrowcolor\":\"#2a3f5f\",\"arrowhead\":0,\"arrowwidth\":1},\"autotypenumbers\":\"strict\",\"coloraxis\":{\"colorbar\":{\"outlinewidth\":0,\"ticks\":\"\"}},\"colorscale\":{\"diverging\":[[0,\"#8e0152\"],[0.1,\"#c51b7d\"],[0.2,\"#de77ae\"],[0.3,\"#f1b6da\"],[0.4,\"#fde0ef\"],[0.5,\"#f7f7f7\"],[0.6,\"#e6f5d0\"],[0.7,\"#b8e186\"],[0.8,\"#7fbc41\"],[0.9,\"#4d9221\"],[1,\"#276419\"]],\"sequential\":[[0.0,\"#0d0887\"],[0.1111111111111111,\"#46039f\"],[0.2222222222222222,\"#7201a8\"],[0.3333333333333333,\"#9c179e\"],[0.4444444444444444,\"#bd3786\"],[0.5555555555555556,\"#d8576b\"],[0.6666666666666666,\"#ed7953\"],[0.7777777777777778,\"#fb9f3a\"],[0.8888888888888888,\"#fdca26\"],[1.0,\"#f0f921\"]],\"sequentialminus\":[[0.0,\"#0d0887\"],[0.1111111111111111,\"#46039f\"],[0.2222222222222222,\"#7201a8\"],[0.3333333333333333,\"#9c179e\"],[0.4444444444444444,\"#bd3786\"],[0.5555555555555556,\"#d8576b\"],[0.6666666666666666,\"#ed7953\"],[0.7777777777777778,\"#fb9f3a\"],[0.8888888888888888,\"#fdca26\"],[1.0,\"#f0f921\"]]},\"colorway\":[\"#636efa\",\"#EF553B\",\"#00cc96\",\"#ab63fa\",\"#FFA15A\",\"#19d3f3\",\"#FF6692\",\"#B6E880\",\"#FF97FF\",\"#FECB52\"],\"font\":{\"color\":\"#2a3f5f\"},\"geo\":{\"bgcolor\":\"white\",\"lakecolor\":\"white\",\"landcolor\":\"white\",\"showlakes\":true,\"showland\":true,\"subunitcolor\":\"#C8D4E3\"},\"hoverlabel\":{\"align\":\"left\"},\"hovermode\":\"closest\",\"mapbox\":{\"style\":\"light\"},\"paper_bgcolor\":\"white\",\"plot_bgcolor\":\"white\",\"polar\":{\"angularaxis\":{\"gridcolor\":\"#EBF0F8\",\"linecolor\":\"#EBF0F8\",\"ticks\":\"\"},\"bgcolor\":\"white\",\"radialaxis\":{\"gridcolor\":\"#EBF0F8\",\"linecolor\":\"#EBF0F8\",\"ticks\":\"\"}},\"scene\":{\"xaxis\":{\"backgroundcolor\":\"white\",\"gridcolor\":\"#DFE8F3\",\"gridwidth\":2,\"linecolor\":\"#EBF0F8\",\"showbackground\":true,\"ticks\":\"\",\"zerolinecolor\":\"#EBF0F8\"},\"yaxis\":{\"backgroundcolor\":\"white\",\"gridcolor\":\"#DFE8F3\",\"gridwidth\":2,\"linecolor\":\"#EBF0F8\",\"showbackground\":true,\"ticks\":\"\",\"zerolinecolor\":\"#EBF0F8\"},\"zaxis\":{\"backgroundcolor\":\"white\",\"gridcolor\":\"#DFE8F3\",\"gridwidth\":2,\"linecolor\":\"#EBF0F8\",\"showbackground\":true,\"ticks\":\"\",\"zerolinecolor\":\"#EBF0F8\"}},\"shapedefaults\":{\"line\":{\"color\":\"#2a3f5f\"}},\"ternary\":{\"aaxis\":{\"gridcolor\":\"#DFE8F3\",\"linecolor\":\"#A2B1C6\",\"ticks\":\"\"},\"baxis\":{\"gridcolor\":\"#DFE8F3\",\"linecolor\":\"#A2B1C6\",\"ticks\":\"\"},\"bgcolor\":\"white\",\"caxis\":{\"gridcolor\":\"#DFE8F3\",\"linecolor\":\"#A2B1C6\",\"ticks\":\"\"}},\"title\":{\"x\":0.05},\"xaxis\":{\"automargin\":true,\"gridcolor\":\"#EBF0F8\",\"linecolor\":\"#EBF0F8\",\"ticks\":\"\",\"title\":{\"standoff\":15},\"zerolinecolor\":\"#EBF0F8\",\"zerolinewidth\":2},\"yaxis\":{\"automargin\":true,\"gridcolor\":\"#EBF0F8\",\"linecolor\":\"#EBF0F8\",\"ticks\":\"\",\"title\":{\"standoff\":15},\"zerolinecolor\":\"#EBF0F8\",\"zerolinewidth\":2}}},\"xaxis\":{\"anchor\":\"y\",\"domain\":[0.0,1.0],\"title\":{\"text\":\"Year\"},\"tickmode\":\"linear\"},\"yaxis\":{\"anchor\":\"x\",\"domain\":[0.0,1.0],\"title\":{\"text\":\"Obesity Rate (%)\"}},\"legend\":{\"tracegroupgap\":0},\"title\":{\"text\":\"Trend of the U.S. Obesity Rate (%)\",\"font\":{\"size\":18,\"family\":\"Arial\"}}},                        {\"responsive\": true}                    ).then(function(){\n",
              "                            \n",
              "var gd = document.getElementById('ee387b77-d2fe-4b1d-8396-b9c9e156b2a0');\n",
              "var x = new MutationObserver(function (mutations, observer) {{\n",
              "        var display = window.getComputedStyle(gd).display;\n",
              "        if (!display || display === 'none') {{\n",
              "            console.log([gd, 'removed!']);\n",
              "            Plotly.purge(gd);\n",
              "            observer.disconnect();\n",
              "        }}\n",
              "}});\n",
              "\n",
              "// Listen for the removal of the full notebook cells\n",
              "var notebookContainer = gd.closest('#notebook-container');\n",
              "if (notebookContainer) {{\n",
              "    x.observe(notebookContainer, {childList: true});\n",
              "}}\n",
              "\n",
              "// Listen for the clearing of the current output cell\n",
              "var outputEl = gd.closest('.output');\n",
              "if (outputEl) {{\n",
              "    x.observe(outputEl, {childList: true});\n",
              "}}\n",
              "\n",
              "                        })                };                            </script>        </div>\n",
              "</body>\n",
              "</html>"
            ]
          },
          "metadata": {}
        }
      ]
    },
    {
      "cell_type": "markdown",
      "source": [
        "* **Shows a strong, positive trend, with a slight drop in 2023.**\n",
        "\n",
        "* **The largest jump occurred between 2020 and 2021.**\n",
        "\n",
        "  * This may be linked to the COVID-19 lockdown, during which people were less active and potentially relied more on fast food for convenience.\n",
        "\n",
        "* **Overall, obesity rose by nearly 4 percentage points in 7 years, again, suggesting obesity is a growing public health concern.**\n"
      ],
      "metadata": {
        "id": "zgth75hnBvJ4"
      }
    },
    {
      "cell_type": "markdown",
      "source": [
        "### Extracting States/Regions Subset\n",
        "* 2 missing records in 2023 are replaced by the ones from 2022"
      ],
      "metadata": {
        "id": "Ue_152xRHf5G"
      }
    },
    {
      "cell_type": "code",
      "source": [
        "# Check states\n",
        "df_2016_2023['State'].value_counts().sort_index().head(5)"
      ],
      "metadata": {
        "colab": {
          "base_uri": "https://localhost:8080/",
          "height": 272
        },
        "id": "QmBxh3-fHxAE",
        "outputId": "877c11aa-eb97-419c-cce6-70e0ce3a5cc2"
      },
      "execution_count": 124,
      "outputs": [
        {
          "output_type": "execute_result",
          "data": {
            "text/plain": [
              "State\n",
              "Alabama       1176\n",
              "Alaska        1176\n",
              "Arizona       1176\n",
              "Arkansas      1176\n",
              "California    1176\n",
              "Name: count, dtype: int64"
            ],
            "text/html": [
              "<div>\n",
              "<style scoped>\n",
              "    .dataframe tbody tr th:only-of-type {\n",
              "        vertical-align: middle;\n",
              "    }\n",
              "\n",
              "    .dataframe tbody tr th {\n",
              "        vertical-align: top;\n",
              "    }\n",
              "\n",
              "    .dataframe thead th {\n",
              "        text-align: right;\n",
              "    }\n",
              "</style>\n",
              "<table border=\"1\" class=\"dataframe\">\n",
              "  <thead>\n",
              "    <tr style=\"text-align: right;\">\n",
              "      <th></th>\n",
              "      <th>count</th>\n",
              "    </tr>\n",
              "    <tr>\n",
              "      <th>State</th>\n",
              "      <th></th>\n",
              "    </tr>\n",
              "  </thead>\n",
              "  <tbody>\n",
              "    <tr>\n",
              "      <th>Alabama</th>\n",
              "      <td>1176</td>\n",
              "    </tr>\n",
              "    <tr>\n",
              "      <th>Alaska</th>\n",
              "      <td>1176</td>\n",
              "    </tr>\n",
              "    <tr>\n",
              "      <th>Arizona</th>\n",
              "      <td>1176</td>\n",
              "    </tr>\n",
              "    <tr>\n",
              "      <th>Arkansas</th>\n",
              "      <td>1176</td>\n",
              "    </tr>\n",
              "    <tr>\n",
              "      <th>California</th>\n",
              "      <td>1176</td>\n",
              "    </tr>\n",
              "  </tbody>\n",
              "</table>\n",
              "</div><br><label><b>dtype:</b> int64</label>"
            ]
          },
          "metadata": {},
          "execution_count": 124
        }
      ]
    },
    {
      "cell_type": "code",
      "source": [
        "# Extract State Data\n",
        "state_total_obesity = total_obesity[total_obesity['State(Abb)'] != 'US']"
      ],
      "metadata": {
        "id": "fbV5_1IJIAds"
      },
      "execution_count": 125,
      "outputs": []
    },
    {
      "cell_type": "code",
      "source": [
        "# Check prop. of missing value in 2016\n",
        "state_total_obesity_2016 = state_total_obesity[state_total_obesity['Year'] == 2016]\n",
        "pct_missing = np.mean(state_total_obesity_2016['Proportion(%)'].isnull())\n",
        "pct_missing"
      ],
      "metadata": {
        "colab": {
          "base_uri": "https://localhost:8080/"
        },
        "id": "kFLVobGrM2Ot",
        "outputId": "190605f3-904f-4c91-c2c1-ba453c5f8171"
      },
      "execution_count": 126,
      "outputs": [
        {
          "output_type": "execute_result",
          "data": {
            "text/plain": [
              "np.float64(0.0)"
            ]
          },
          "metadata": {},
          "execution_count": 126
        }
      ]
    },
    {
      "cell_type": "code",
      "source": [
        "# Check prop. of missing value in 2023: 3%\n",
        "state_total_obesity_2023 = state_total_obesity[state_total_obesity['Year'] == 2023]\n",
        "pct_missing = np.mean(state_total_obesity_2023['Proportion(%)'].isnull())\n",
        "pct_missing"
      ],
      "metadata": {
        "colab": {
          "base_uri": "https://localhost:8080/"
        },
        "id": "BKwOnhaeNBj2",
        "outputId": "7e81455f-da0e-4734-ce0f-c536954f36cb"
      },
      "execution_count": 127,
      "outputs": [
        {
          "output_type": "execute_result",
          "data": {
            "text/plain": [
              "np.float64(0.037037037037037035)"
            ]
          },
          "metadata": {},
          "execution_count": 127
        }
      ]
    },
    {
      "cell_type": "code",
      "source": [
        "# Check missing data in 2023\n",
        "missing_2023 = state_total_obesity_2023[state_total_obesity_2023['Proportion(%)'].isnull()]\n",
        "missing_2023"
      ],
      "metadata": {
        "colab": {
          "base_uri": "https://localhost:8080/",
          "height": 166
        },
        "id": "cPJpaCh9NK5u",
        "outputId": "b5ffb572-bfd4-41cf-89f3-29198dcf9a8c"
      },
      "execution_count": 128,
      "outputs": [
        {
          "output_type": "execute_result",
          "data": {
            "text/plain": [
              "       Year State(Abb)         State    Question  Proportion(%)  Size  Total  \\\n",
              "57099  2023         KY      Kentucky  Obesity(%)            NaN     0  Total   \n",
              "61370  2023         PA  Pennsylvania  Obesity(%)            NaN     0  Total   \n",
              "\n",
              "       Age Education  Sex Income Race/Ethnicity  \\\n",
              "57099  NaN       NaN  NaN    NaN            NaN   \n",
              "61370  NaN       NaN  NaN    NaN            NaN   \n",
              "\n",
              "                                       Location Category  \n",
              "57099  (37.645970271000465, -84.77497104799966)      OVR  \n",
              "61370   (40.79373015200048, -77.86070029399963)      OVR  "
            ],
            "text/html": [
              "\n",
              "  <div id=\"df-3e3eb5d4-3d8f-4090-a43e-a2301d073273\" class=\"colab-df-container\">\n",
              "    <div>\n",
              "<style scoped>\n",
              "    .dataframe tbody tr th:only-of-type {\n",
              "        vertical-align: middle;\n",
              "    }\n",
              "\n",
              "    .dataframe tbody tr th {\n",
              "        vertical-align: top;\n",
              "    }\n",
              "\n",
              "    .dataframe thead th {\n",
              "        text-align: right;\n",
              "    }\n",
              "</style>\n",
              "<table border=\"1\" class=\"dataframe\">\n",
              "  <thead>\n",
              "    <tr style=\"text-align: right;\">\n",
              "      <th></th>\n",
              "      <th>Year</th>\n",
              "      <th>State(Abb)</th>\n",
              "      <th>State</th>\n",
              "      <th>Question</th>\n",
              "      <th>Proportion(%)</th>\n",
              "      <th>Size</th>\n",
              "      <th>Total</th>\n",
              "      <th>Age</th>\n",
              "      <th>Education</th>\n",
              "      <th>Sex</th>\n",
              "      <th>Income</th>\n",
              "      <th>Race/Ethnicity</th>\n",
              "      <th>Location</th>\n",
              "      <th>Category</th>\n",
              "    </tr>\n",
              "  </thead>\n",
              "  <tbody>\n",
              "    <tr>\n",
              "      <th>57099</th>\n",
              "      <td>2023</td>\n",
              "      <td>KY</td>\n",
              "      <td>Kentucky</td>\n",
              "      <td>Obesity(%)</td>\n",
              "      <td>NaN</td>\n",
              "      <td>0</td>\n",
              "      <td>Total</td>\n",
              "      <td>NaN</td>\n",
              "      <td>NaN</td>\n",
              "      <td>NaN</td>\n",
              "      <td>NaN</td>\n",
              "      <td>NaN</td>\n",
              "      <td>(37.645970271000465, -84.77497104799966)</td>\n",
              "      <td>OVR</td>\n",
              "    </tr>\n",
              "    <tr>\n",
              "      <th>61370</th>\n",
              "      <td>2023</td>\n",
              "      <td>PA</td>\n",
              "      <td>Pennsylvania</td>\n",
              "      <td>Obesity(%)</td>\n",
              "      <td>NaN</td>\n",
              "      <td>0</td>\n",
              "      <td>Total</td>\n",
              "      <td>NaN</td>\n",
              "      <td>NaN</td>\n",
              "      <td>NaN</td>\n",
              "      <td>NaN</td>\n",
              "      <td>NaN</td>\n",
              "      <td>(40.79373015200048, -77.86070029399963)</td>\n",
              "      <td>OVR</td>\n",
              "    </tr>\n",
              "  </tbody>\n",
              "</table>\n",
              "</div>\n",
              "    <div class=\"colab-df-buttons\">\n",
              "\n",
              "  <div class=\"colab-df-container\">\n",
              "    <button class=\"colab-df-convert\" onclick=\"convertToInteractive('df-3e3eb5d4-3d8f-4090-a43e-a2301d073273')\"\n",
              "            title=\"Convert this dataframe to an interactive table.\"\n",
              "            style=\"display:none;\">\n",
              "\n",
              "  <svg xmlns=\"http://www.w3.org/2000/svg\" height=\"24px\" viewBox=\"0 -960 960 960\">\n",
              "    <path d=\"M120-120v-720h720v720H120Zm60-500h600v-160H180v160Zm220 220h160v-160H400v160Zm0 220h160v-160H400v160ZM180-400h160v-160H180v160Zm440 0h160v-160H620v160ZM180-180h160v-160H180v160Zm440 0h160v-160H620v160Z\"/>\n",
              "  </svg>\n",
              "    </button>\n",
              "\n",
              "  <style>\n",
              "    .colab-df-container {\n",
              "      display:flex;\n",
              "      gap: 12px;\n",
              "    }\n",
              "\n",
              "    .colab-df-convert {\n",
              "      background-color: #E8F0FE;\n",
              "      border: none;\n",
              "      border-radius: 50%;\n",
              "      cursor: pointer;\n",
              "      display: none;\n",
              "      fill: #1967D2;\n",
              "      height: 32px;\n",
              "      padding: 0 0 0 0;\n",
              "      width: 32px;\n",
              "    }\n",
              "\n",
              "    .colab-df-convert:hover {\n",
              "      background-color: #E2EBFA;\n",
              "      box-shadow: 0px 1px 2px rgba(60, 64, 67, 0.3), 0px 1px 3px 1px rgba(60, 64, 67, 0.15);\n",
              "      fill: #174EA6;\n",
              "    }\n",
              "\n",
              "    .colab-df-buttons div {\n",
              "      margin-bottom: 4px;\n",
              "    }\n",
              "\n",
              "    [theme=dark] .colab-df-convert {\n",
              "      background-color: #3B4455;\n",
              "      fill: #D2E3FC;\n",
              "    }\n",
              "\n",
              "    [theme=dark] .colab-df-convert:hover {\n",
              "      background-color: #434B5C;\n",
              "      box-shadow: 0px 1px 3px 1px rgba(0, 0, 0, 0.15);\n",
              "      filter: drop-shadow(0px 1px 2px rgba(0, 0, 0, 0.3));\n",
              "      fill: #FFFFFF;\n",
              "    }\n",
              "  </style>\n",
              "\n",
              "    <script>\n",
              "      const buttonEl =\n",
              "        document.querySelector('#df-3e3eb5d4-3d8f-4090-a43e-a2301d073273 button.colab-df-convert');\n",
              "      buttonEl.style.display =\n",
              "        google.colab.kernel.accessAllowed ? 'block' : 'none';\n",
              "\n",
              "      async function convertToInteractive(key) {\n",
              "        const element = document.querySelector('#df-3e3eb5d4-3d8f-4090-a43e-a2301d073273');\n",
              "        const dataTable =\n",
              "          await google.colab.kernel.invokeFunction('convertToInteractive',\n",
              "                                                    [key], {});\n",
              "        if (!dataTable) return;\n",
              "\n",
              "        const docLinkHtml = 'Like what you see? Visit the ' +\n",
              "          '<a target=\"_blank\" href=https://colab.research.google.com/notebooks/data_table.ipynb>data table notebook</a>'\n",
              "          + ' to learn more about interactive tables.';\n",
              "        element.innerHTML = '';\n",
              "        dataTable['output_type'] = 'display_data';\n",
              "        await google.colab.output.renderOutput(dataTable, element);\n",
              "        const docLink = document.createElement('div');\n",
              "        docLink.innerHTML = docLinkHtml;\n",
              "        element.appendChild(docLink);\n",
              "      }\n",
              "    </script>\n",
              "  </div>\n",
              "\n",
              "\n",
              "    <div id=\"df-403650f8-d387-4862-bad3-c36cf50e4faa\">\n",
              "      <button class=\"colab-df-quickchart\" onclick=\"quickchart('df-403650f8-d387-4862-bad3-c36cf50e4faa')\"\n",
              "                title=\"Suggest charts\"\n",
              "                style=\"display:none;\">\n",
              "\n",
              "<svg xmlns=\"http://www.w3.org/2000/svg\" height=\"24px\"viewBox=\"0 0 24 24\"\n",
              "     width=\"24px\">\n",
              "    <g>\n",
              "        <path d=\"M19 3H5c-1.1 0-2 .9-2 2v14c0 1.1.9 2 2 2h14c1.1 0 2-.9 2-2V5c0-1.1-.9-2-2-2zM9 17H7v-7h2v7zm4 0h-2V7h2v10zm4 0h-2v-4h2v4z\"/>\n",
              "    </g>\n",
              "</svg>\n",
              "      </button>\n",
              "\n",
              "<style>\n",
              "  .colab-df-quickchart {\n",
              "      --bg-color: #E8F0FE;\n",
              "      --fill-color: #1967D2;\n",
              "      --hover-bg-color: #E2EBFA;\n",
              "      --hover-fill-color: #174EA6;\n",
              "      --disabled-fill-color: #AAA;\n",
              "      --disabled-bg-color: #DDD;\n",
              "  }\n",
              "\n",
              "  [theme=dark] .colab-df-quickchart {\n",
              "      --bg-color: #3B4455;\n",
              "      --fill-color: #D2E3FC;\n",
              "      --hover-bg-color: #434B5C;\n",
              "      --hover-fill-color: #FFFFFF;\n",
              "      --disabled-bg-color: #3B4455;\n",
              "      --disabled-fill-color: #666;\n",
              "  }\n",
              "\n",
              "  .colab-df-quickchart {\n",
              "    background-color: var(--bg-color);\n",
              "    border: none;\n",
              "    border-radius: 50%;\n",
              "    cursor: pointer;\n",
              "    display: none;\n",
              "    fill: var(--fill-color);\n",
              "    height: 32px;\n",
              "    padding: 0;\n",
              "    width: 32px;\n",
              "  }\n",
              "\n",
              "  .colab-df-quickchart:hover {\n",
              "    background-color: var(--hover-bg-color);\n",
              "    box-shadow: 0 1px 2px rgba(60, 64, 67, 0.3), 0 1px 3px 1px rgba(60, 64, 67, 0.15);\n",
              "    fill: var(--button-hover-fill-color);\n",
              "  }\n",
              "\n",
              "  .colab-df-quickchart-complete:disabled,\n",
              "  .colab-df-quickchart-complete:disabled:hover {\n",
              "    background-color: var(--disabled-bg-color);\n",
              "    fill: var(--disabled-fill-color);\n",
              "    box-shadow: none;\n",
              "  }\n",
              "\n",
              "  .colab-df-spinner {\n",
              "    border: 2px solid var(--fill-color);\n",
              "    border-color: transparent;\n",
              "    border-bottom-color: var(--fill-color);\n",
              "    animation:\n",
              "      spin 1s steps(1) infinite;\n",
              "  }\n",
              "\n",
              "  @keyframes spin {\n",
              "    0% {\n",
              "      border-color: transparent;\n",
              "      border-bottom-color: var(--fill-color);\n",
              "      border-left-color: var(--fill-color);\n",
              "    }\n",
              "    20% {\n",
              "      border-color: transparent;\n",
              "      border-left-color: var(--fill-color);\n",
              "      border-top-color: var(--fill-color);\n",
              "    }\n",
              "    30% {\n",
              "      border-color: transparent;\n",
              "      border-left-color: var(--fill-color);\n",
              "      border-top-color: var(--fill-color);\n",
              "      border-right-color: var(--fill-color);\n",
              "    }\n",
              "    40% {\n",
              "      border-color: transparent;\n",
              "      border-right-color: var(--fill-color);\n",
              "      border-top-color: var(--fill-color);\n",
              "    }\n",
              "    60% {\n",
              "      border-color: transparent;\n",
              "      border-right-color: var(--fill-color);\n",
              "    }\n",
              "    80% {\n",
              "      border-color: transparent;\n",
              "      border-right-color: var(--fill-color);\n",
              "      border-bottom-color: var(--fill-color);\n",
              "    }\n",
              "    90% {\n",
              "      border-color: transparent;\n",
              "      border-bottom-color: var(--fill-color);\n",
              "    }\n",
              "  }\n",
              "</style>\n",
              "\n",
              "      <script>\n",
              "        async function quickchart(key) {\n",
              "          const quickchartButtonEl =\n",
              "            document.querySelector('#' + key + ' button');\n",
              "          quickchartButtonEl.disabled = true;  // To prevent multiple clicks.\n",
              "          quickchartButtonEl.classList.add('colab-df-spinner');\n",
              "          try {\n",
              "            const charts = await google.colab.kernel.invokeFunction(\n",
              "                'suggestCharts', [key], {});\n",
              "          } catch (error) {\n",
              "            console.error('Error during call to suggestCharts:', error);\n",
              "          }\n",
              "          quickchartButtonEl.classList.remove('colab-df-spinner');\n",
              "          quickchartButtonEl.classList.add('colab-df-quickchart-complete');\n",
              "        }\n",
              "        (() => {\n",
              "          let quickchartButtonEl =\n",
              "            document.querySelector('#df-403650f8-d387-4862-bad3-c36cf50e4faa button');\n",
              "          quickchartButtonEl.style.display =\n",
              "            google.colab.kernel.accessAllowed ? 'block' : 'none';\n",
              "        })();\n",
              "      </script>\n",
              "    </div>\n",
              "\n",
              "  <div id=\"id_3bd713db-dada-4da2-959d-dc1339f62baf\">\n",
              "    <style>\n",
              "      .colab-df-generate {\n",
              "        background-color: #E8F0FE;\n",
              "        border: none;\n",
              "        border-radius: 50%;\n",
              "        cursor: pointer;\n",
              "        display: none;\n",
              "        fill: #1967D2;\n",
              "        height: 32px;\n",
              "        padding: 0 0 0 0;\n",
              "        width: 32px;\n",
              "      }\n",
              "\n",
              "      .colab-df-generate:hover {\n",
              "        background-color: #E2EBFA;\n",
              "        box-shadow: 0px 1px 2px rgba(60, 64, 67, 0.3), 0px 1px 3px 1px rgba(60, 64, 67, 0.15);\n",
              "        fill: #174EA6;\n",
              "      }\n",
              "\n",
              "      [theme=dark] .colab-df-generate {\n",
              "        background-color: #3B4455;\n",
              "        fill: #D2E3FC;\n",
              "      }\n",
              "\n",
              "      [theme=dark] .colab-df-generate:hover {\n",
              "        background-color: #434B5C;\n",
              "        box-shadow: 0px 1px 3px 1px rgba(0, 0, 0, 0.15);\n",
              "        filter: drop-shadow(0px 1px 2px rgba(0, 0, 0, 0.3));\n",
              "        fill: #FFFFFF;\n",
              "      }\n",
              "    </style>\n",
              "    <button class=\"colab-df-generate\" onclick=\"generateWithVariable('missing_2023')\"\n",
              "            title=\"Generate code using this dataframe.\"\n",
              "            style=\"display:none;\">\n",
              "\n",
              "  <svg xmlns=\"http://www.w3.org/2000/svg\" height=\"24px\"viewBox=\"0 0 24 24\"\n",
              "       width=\"24px\">\n",
              "    <path d=\"M7,19H8.4L18.45,9,17,7.55,7,17.6ZM5,21V16.75L18.45,3.32a2,2,0,0,1,2.83,0l1.4,1.43a1.91,1.91,0,0,1,.58,1.4,1.91,1.91,0,0,1-.58,1.4L9.25,21ZM18.45,9,17,7.55Zm-12,3A5.31,5.31,0,0,0,4.9,8.1,5.31,5.31,0,0,0,1,6.5,5.31,5.31,0,0,0,4.9,4.9,5.31,5.31,0,0,0,6.5,1,5.31,5.31,0,0,0,8.1,4.9,5.31,5.31,0,0,0,12,6.5,5.46,5.46,0,0,0,6.5,12Z\"/>\n",
              "  </svg>\n",
              "    </button>\n",
              "    <script>\n",
              "      (() => {\n",
              "      const buttonEl =\n",
              "        document.querySelector('#id_3bd713db-dada-4da2-959d-dc1339f62baf button.colab-df-generate');\n",
              "      buttonEl.style.display =\n",
              "        google.colab.kernel.accessAllowed ? 'block' : 'none';\n",
              "\n",
              "      buttonEl.onclick = () => {\n",
              "        google.colab.notebook.generateWithVariable('missing_2023');\n",
              "      }\n",
              "      })();\n",
              "    </script>\n",
              "  </div>\n",
              "\n",
              "    </div>\n",
              "  </div>\n"
            ],
            "application/vnd.google.colaboratory.intrinsic+json": {
              "type": "dataframe",
              "variable_name": "missing_2023",
              "repr_error": "0"
            }
          },
          "metadata": {},
          "execution_count": 128
        }
      ]
    },
    {
      "cell_type": "code",
      "source": [
        "# replace 2023 missing values with 2022 data\n",
        "state_total_obesity = state_total_obesity.sort_values(by=['State', 'Year'])\n",
        "\n",
        "# Forward fill within each state\n",
        "state_total_obesity['Proportion(%)'] = state_total_obesity.groupby('State')['Proportion(%)'].transform(lambda x: x.ffill())\n",
        "# double check if missing data is replaced\n",
        "state_total_obesity_2023 = state_total_obesity[state_total_obesity['Year'] == 2023]\n",
        "pct_missing = np.mean(state_total_obesity_2023['Proportion(%)'].isnull())\n",
        "pct_missing"
      ],
      "metadata": {
        "colab": {
          "base_uri": "https://localhost:8080/"
        },
        "id": "Xau8X3NCSDbg",
        "outputId": "620c6cd7-ae15-473c-ee98-532eb9c0959a"
      },
      "execution_count": 129,
      "outputs": [
        {
          "output_type": "execute_result",
          "data": {
            "text/plain": [
              "np.float64(0.0)"
            ]
          },
          "metadata": {},
          "execution_count": 129
        }
      ]
    },
    {
      "cell_type": "code",
      "source": [
        "# 2016 df\n",
        "state_total_obesity_2016 = state_total_obesity[state_total_obesity['Year'] == 2016]\n",
        "state_total_obesity_2016.head(1)"
      ],
      "metadata": {
        "colab": {
          "base_uri": "https://localhost:8080/",
          "height": 118
        },
        "id": "4nv7JKmKYtRF",
        "outputId": "e3aba3b9-a9f5-4ed4-f78b-f2589d2df115"
      },
      "execution_count": 130,
      "outputs": [
        {
          "output_type": "execute_result",
          "data": {
            "text/plain": [
              "     Year State(Abb)    State    Question  Proportion(%)  Size  Total  Age  \\\n",
              "160  2016         AL  Alabama  Obesity(%)           35.7  6526  Total  NaN   \n",
              "\n",
              "    Education  Sex Income Race/Ethnicity                       Location  \\\n",
              "160       NaN  NaN    NaN            NaN  (32.840571122, -86.631860762)   \n",
              "\n",
              "    Category  \n",
              "160      OVR  "
            ],
            "text/html": [
              "\n",
              "  <div id=\"df-ee7b13be-4678-45f8-bcf8-46491ddc4b96\" class=\"colab-df-container\">\n",
              "    <div>\n",
              "<style scoped>\n",
              "    .dataframe tbody tr th:only-of-type {\n",
              "        vertical-align: middle;\n",
              "    }\n",
              "\n",
              "    .dataframe tbody tr th {\n",
              "        vertical-align: top;\n",
              "    }\n",
              "\n",
              "    .dataframe thead th {\n",
              "        text-align: right;\n",
              "    }\n",
              "</style>\n",
              "<table border=\"1\" class=\"dataframe\">\n",
              "  <thead>\n",
              "    <tr style=\"text-align: right;\">\n",
              "      <th></th>\n",
              "      <th>Year</th>\n",
              "      <th>State(Abb)</th>\n",
              "      <th>State</th>\n",
              "      <th>Question</th>\n",
              "      <th>Proportion(%)</th>\n",
              "      <th>Size</th>\n",
              "      <th>Total</th>\n",
              "      <th>Age</th>\n",
              "      <th>Education</th>\n",
              "      <th>Sex</th>\n",
              "      <th>Income</th>\n",
              "      <th>Race/Ethnicity</th>\n",
              "      <th>Location</th>\n",
              "      <th>Category</th>\n",
              "    </tr>\n",
              "  </thead>\n",
              "  <tbody>\n",
              "    <tr>\n",
              "      <th>160</th>\n",
              "      <td>2016</td>\n",
              "      <td>AL</td>\n",
              "      <td>Alabama</td>\n",
              "      <td>Obesity(%)</td>\n",
              "      <td>35.7</td>\n",
              "      <td>6526</td>\n",
              "      <td>Total</td>\n",
              "      <td>NaN</td>\n",
              "      <td>NaN</td>\n",
              "      <td>NaN</td>\n",
              "      <td>NaN</td>\n",
              "      <td>NaN</td>\n",
              "      <td>(32.840571122, -86.631860762)</td>\n",
              "      <td>OVR</td>\n",
              "    </tr>\n",
              "  </tbody>\n",
              "</table>\n",
              "</div>\n",
              "    <div class=\"colab-df-buttons\">\n",
              "\n",
              "  <div class=\"colab-df-container\">\n",
              "    <button class=\"colab-df-convert\" onclick=\"convertToInteractive('df-ee7b13be-4678-45f8-bcf8-46491ddc4b96')\"\n",
              "            title=\"Convert this dataframe to an interactive table.\"\n",
              "            style=\"display:none;\">\n",
              "\n",
              "  <svg xmlns=\"http://www.w3.org/2000/svg\" height=\"24px\" viewBox=\"0 -960 960 960\">\n",
              "    <path d=\"M120-120v-720h720v720H120Zm60-500h600v-160H180v160Zm220 220h160v-160H400v160Zm0 220h160v-160H400v160ZM180-400h160v-160H180v160Zm440 0h160v-160H620v160ZM180-180h160v-160H180v160Zm440 0h160v-160H620v160Z\"/>\n",
              "  </svg>\n",
              "    </button>\n",
              "\n",
              "  <style>\n",
              "    .colab-df-container {\n",
              "      display:flex;\n",
              "      gap: 12px;\n",
              "    }\n",
              "\n",
              "    .colab-df-convert {\n",
              "      background-color: #E8F0FE;\n",
              "      border: none;\n",
              "      border-radius: 50%;\n",
              "      cursor: pointer;\n",
              "      display: none;\n",
              "      fill: #1967D2;\n",
              "      height: 32px;\n",
              "      padding: 0 0 0 0;\n",
              "      width: 32px;\n",
              "    }\n",
              "\n",
              "    .colab-df-convert:hover {\n",
              "      background-color: #E2EBFA;\n",
              "      box-shadow: 0px 1px 2px rgba(60, 64, 67, 0.3), 0px 1px 3px 1px rgba(60, 64, 67, 0.15);\n",
              "      fill: #174EA6;\n",
              "    }\n",
              "\n",
              "    .colab-df-buttons div {\n",
              "      margin-bottom: 4px;\n",
              "    }\n",
              "\n",
              "    [theme=dark] .colab-df-convert {\n",
              "      background-color: #3B4455;\n",
              "      fill: #D2E3FC;\n",
              "    }\n",
              "\n",
              "    [theme=dark] .colab-df-convert:hover {\n",
              "      background-color: #434B5C;\n",
              "      box-shadow: 0px 1px 3px 1px rgba(0, 0, 0, 0.15);\n",
              "      filter: drop-shadow(0px 1px 2px rgba(0, 0, 0, 0.3));\n",
              "      fill: #FFFFFF;\n",
              "    }\n",
              "  </style>\n",
              "\n",
              "    <script>\n",
              "      const buttonEl =\n",
              "        document.querySelector('#df-ee7b13be-4678-45f8-bcf8-46491ddc4b96 button.colab-df-convert');\n",
              "      buttonEl.style.display =\n",
              "        google.colab.kernel.accessAllowed ? 'block' : 'none';\n",
              "\n",
              "      async function convertToInteractive(key) {\n",
              "        const element = document.querySelector('#df-ee7b13be-4678-45f8-bcf8-46491ddc4b96');\n",
              "        const dataTable =\n",
              "          await google.colab.kernel.invokeFunction('convertToInteractive',\n",
              "                                                    [key], {});\n",
              "        if (!dataTable) return;\n",
              "\n",
              "        const docLinkHtml = 'Like what you see? Visit the ' +\n",
              "          '<a target=\"_blank\" href=https://colab.research.google.com/notebooks/data_table.ipynb>data table notebook</a>'\n",
              "          + ' to learn more about interactive tables.';\n",
              "        element.innerHTML = '';\n",
              "        dataTable['output_type'] = 'display_data';\n",
              "        await google.colab.output.renderOutput(dataTable, element);\n",
              "        const docLink = document.createElement('div');\n",
              "        docLink.innerHTML = docLinkHtml;\n",
              "        element.appendChild(docLink);\n",
              "      }\n",
              "    </script>\n",
              "  </div>\n",
              "\n",
              "\n",
              "    </div>\n",
              "  </div>\n"
            ],
            "application/vnd.google.colaboratory.intrinsic+json": {
              "type": "dataframe",
              "variable_name": "state_total_obesity_2016",
              "repr_error": "0"
            }
          },
          "metadata": {},
          "execution_count": 130
        }
      ]
    },
    {
      "cell_type": "code",
      "source": [
        "# join 2016 and 2023 df\n",
        "state_total_obesity_difference = state_total_obesity_2016[['State(Abb)', 'State', 'Proportion(%)']].merge(\n",
        "    state_total_obesity_2023[['State(Abb)', 'State', 'Proportion(%)']],\n",
        "    on=['State(Abb)', 'State'],\n",
        "    suffixes=('_2016', '_2023')\n",
        ")"
      ],
      "metadata": {
        "id": "RODzehR5V6oo"
      },
      "execution_count": 133,
      "outputs": []
    },
    {
      "cell_type": "code",
      "source": [
        "# find the difference between 2016 and 2023\n",
        "state_total_obesity_difference['Difference'] = state_total_obesity_difference['Proportion(%)_2023'] - state_total_obesity_difference['Proportion(%)_2016']\n",
        "state_total_obesity_difference.sort_values(by='Difference', ascending=False, inplace=True)"
      ],
      "metadata": {
        "id": "PF_z_ctbXbEc"
      },
      "execution_count": 134,
      "outputs": []
    },
    {
      "cell_type": "markdown",
      "source": [
        "### Visualization of Change of Obesity Rate of States/Regions Between 2016 and 2023"
      ],
      "metadata": {
        "id": "cbuc3jdRfgOF"
      }
    },
    {
      "cell_type": "code",
      "source": [
        "# Visualization of Top 10 States/Regions with Highest Obesity Rate Growth Between 2016 and 2023\n",
        "top_10 = state_total_obesity_difference.head(10)\n",
        "green_palette = sns.color_palette(\"Greens\", n_colors=20)[5:][::-1]\n",
        "sns.barplot(x='State', y='Difference', data=top_10, palette=green_palette, gap=1.75)\n",
        "plt.title('Top 10 States/Regions with Highest Adult Obesity Rate Growth Between 2016 and 2023', fontsize=14, fontweight='bold')\n",
        "plt.xlabel('States/Regions', fontsize=14)\n",
        "plt.ylabel('Obesity Rate Growth(%)', fontsize=14)\n",
        "plt.xticks(rotation=20)\n",
        "plt.ylim(5.0, 7.6) # top_10['Difference'].max() + 0)\n",
        "for i, val in enumerate(top_10['Difference']):\n",
        "    plt.text(i, val + 0.05, f'{val:.2f}', ha='center', va='bottom', fontsize=12)\n",
        "plt.show();"
      ],
      "metadata": {
        "colab": {
          "base_uri": "https://localhost:8080/",
          "height": 474
        },
        "id": "B4bMqzcTewW5",
        "outputId": "f93a1fc6-dffc-4b19-8506-7495c0ab7c95"
      },
      "execution_count": 135,
      "outputs": [
        {
          "output_type": "display_data",
          "data": {
            "text/plain": [
              "<Figure size 1200x800 with 1 Axes>"
            ],
            "image/png": "[encoded data removed]"
          },
          "metadata": {}
        }
      ]
    },
    {
      "cell_type": "markdown",
      "source": [
        "* Regions like Guam (7.1%) and states like New Mexico (7.0%) show the largest growth in adult obesity rates.\n",
        "\n",
        "* Most of the locations in this top group, had increases between 5.3% and 6.4%.\n",
        "\n",
        "* These sharp increses may indicate:\n",
        "\n",
        "  * Emerging public health challenges\n",
        "\n",
        "  * Insufficient access to healthcare, nutrition, or preventive programs"
      ],
      "metadata": {
        "id": "T6-CiyZsrtFW"
      }
    },
    {
      "cell_type": "code",
      "source": [
        "# Visualization of the 10 States/Regions with Lowest Obesity Rate Growth Between 2016 and 2023\n",
        "low_10 = state_total_obesity_difference.tail(10)\n",
        "red_palette = sns.color_palette(\"Reds\", n_colors=20)[5:]\n",
        "sns.barplot(x='State', y='Difference', data=low_10, palette=red_palette, gap=1.75)\n",
        "plt.title('10 States/Regions with Lowest Obesity Growth Change Between 2016 and 2023', fontsize=14, fontweight='bold')\n",
        "plt.xlabel('States/Regions', fontsize=14)\n",
        "plt.ylabel('Obesity Rate Growth(%)', fontsize=14)\n",
        "plt.xticks(rotation=20)\n",
        "for i, val in enumerate(low_10['Difference']):\n",
        "    plt.text(i, val + 0.05, f'{val:.2f}', ha='center', va='bottom', fontsize=12)\n",
        "plt.show();"
      ],
      "metadata": {
        "colab": {
          "base_uri": "https://localhost:8080/",
          "height": 483
        },
        "id": "gR0UJP-4f-uS",
        "outputId": "5caa449f-362f-452d-cfc4-1308b4397bd4"
      },
      "execution_count": 136,
      "outputs": [
        {
          "output_type": "display_data",
          "data": {
            "text/plain": [
              "<Figure size 1200x800 with 1 Axes>"
            ],
            "image/png": "[encoded data removed]"
          },
          "metadata": {}
        }
      ]
    },
    {
      "cell_type": "markdown",
      "source": [
        "* States like Texas (0.7%) ad New Jersey saw the smallest increases in obesity rate.\n",
        "\n",
        "* Notably, the Virgin Islands (-0.4%) experienced a decline in obesity over years.\n"
      ],
      "metadata": {
        "id": "IrR4v3j7nHHo"
      }
    },
    {
      "cell_type": "markdown",
      "source": [
        "### 💡 Key Findings from Obesity Rate by States/Regions:\n",
        "\n",
        "* Obesity rate growth varies widely across U.S. — ranging from a decline of 0.4% to a 7.1% increase between 2016 and 2023.\n",
        "\n",
        "* States such as New Jersey and Texas had low growth, they might offer insights or best practices in health policy, education or food access that could benefit higher-growth regions.\n",
        "\n",
        "* States with high increases like New Mexico and South Dakota, may need targeted interventions.\n",
        "\n",
        "* Overall, obesity is not rising evenly."
      ],
      "metadata": {
        "id": "phdS9xuxc8kc"
      }
    },
    {
      "cell_type": "markdown",
      "source": [
        "## Explore the Relationship between Obesity and Race/Ethnicity"
      ],
      "metadata": {
        "id": "d53M9SImvJnx"
      }
    },
    {
      "cell_type": "markdown",
      "source": [
        "### Extract Subset of Obesity Rate Between Race/Ethnicity\n",
        "* 34% missing data\n",
        "* Dropped all missing records, possibly create biases especially for smaller size categories"
      ],
      "metadata": {
        "id": "o0C8M8sxvP8z"
      }
    },
    {
      "cell_type": "code",
      "source": [
        "# Extract records related to obesity rate and race\n",
        "race_obesity = df_2016_2023[(df_2016_2023['Category'] == 'RACE') & (df_2016_2023['Question'] == 'Obesity(%)')]"
      ],
      "metadata": {
        "id": "659F9nzEvYsU"
      },
      "execution_count": 142,
      "outputs": []
    },
    {
      "cell_type": "code",
      "source": [
        "# Check missing prop.: 34% data missing\n",
        "pct_missing = np.mean(race_obesity['Proportion(%)'].isnull())\n",
        "pct_missing"
      ],
      "metadata": {
        "colab": {
          "base_uri": "https://localhost:8080/"
        },
        "id": "iko0xlbQwmhT",
        "outputId": "4a5b2484-2d38-46f1-da1d-7fed1ce22359"
      },
      "execution_count": 138,
      "outputs": [
        {
          "output_type": "execute_result",
          "data": {
            "text/plain": [
              "np.float64(0.3387557077625571)"
            ]
          },
          "metadata": {},
          "execution_count": 138
        }
      ]
    },
    {
      "cell_type": "code",
      "source": [
        "# Extract complete records\n",
        "race_obesity_complete = race_obesity[['Year', 'State', 'Proportion(%)', 'Race/Ethnicity']].dropna()"
      ],
      "metadata": {
        "id": "3m2pn9O5w5OU"
      },
      "execution_count": 143,
      "outputs": []
    },
    {
      "cell_type": "code",
      "source": [
        "# Categories of Race/Ethnicity\n",
        "race_obesity_complete['Race/Ethnicity'].value_counts()"
      ],
      "metadata": {
        "colab": {
          "base_uri": "https://localhost:8080/",
          "height": 366
        },
        "id": "_qcnQ_qnwKQz",
        "outputId": "e4cd8678-6dbd-4cbc-b535-f26780b9cc35"
      },
      "execution_count": 140,
      "outputs": [
        {
          "output_type": "execute_result",
          "data": {
            "text/plain": [
              "Race/Ethnicity\n",
              "Non-Hispanic White               424\n",
              "Hispanic                         422\n",
              "2 or more races                  396\n",
              "Non-Hispanic Black               354\n",
              "Asian                            290\n",
              "American Indian/Alaska Native    274\n",
              "Other                            124\n",
              "Hawaiian/Pacific Islander         33\n",
              "Name: count, dtype: int64"
            ],
            "text/html": [
              "<div>\n",
              "<style scoped>\n",
              "    .dataframe tbody tr th:only-of-type {\n",
              "        vertical-align: middle;\n",
              "    }\n",
              "\n",
              "    .dataframe tbody tr th {\n",
              "        vertical-align: top;\n",
              "    }\n",
              "\n",
              "    .dataframe thead th {\n",
              "        text-align: right;\n",
              "    }\n",
              "</style>\n",
              "<table border=\"1\" class=\"dataframe\">\n",
              "  <thead>\n",
              "    <tr style=\"text-align: right;\">\n",
              "      <th></th>\n",
              "      <th>count</th>\n",
              "    </tr>\n",
              "    <tr>\n",
              "      <th>Race/Ethnicity</th>\n",
              "      <th></th>\n",
              "    </tr>\n",
              "  </thead>\n",
              "  <tbody>\n",
              "    <tr>\n",
              "      <th>Non-Hispanic White</th>\n",
              "      <td>424</td>\n",
              "    </tr>\n",
              "    <tr>\n",
              "      <th>Hispanic</th>\n",
              "      <td>422</td>\n",
              "    </tr>\n",
              "    <tr>\n",
              "      <th>2 or more races</th>\n",
              "      <td>396</td>\n",
              "    </tr>\n",
              "    <tr>\n",
              "      <th>Non-Hispanic Black</th>\n",
              "      <td>354</td>\n",
              "    </tr>\n",
              "    <tr>\n",
              "      <th>Asian</th>\n",
              "      <td>290</td>\n",
              "    </tr>\n",
              "    <tr>\n",
              "      <th>American Indian/Alaska Native</th>\n",
              "      <td>274</td>\n",
              "    </tr>\n",
              "    <tr>\n",
              "      <th>Other</th>\n",
              "      <td>124</td>\n",
              "    </tr>\n",
              "    <tr>\n",
              "      <th>Hawaiian/Pacific Islander</th>\n",
              "      <td>33</td>\n",
              "    </tr>\n",
              "  </tbody>\n",
              "</table>\n",
              "</div><br><label><b>dtype:</b> int64</label>"
            ]
          },
          "metadata": {},
          "execution_count": 140
        }
      ]
    },
    {
      "cell_type": "markdown",
      "source": [
        "### Visualization and Comparison of Obesity Rate of Different Race/Ethnicity"
      ],
      "metadata": {
        "id": "6qmV0yHqIZPo"
      }
    },
    {
      "cell_type": "code",
      "source": [
        "# Check distribution of complete records\n",
        "g = sns.FacetGrid(race_obesity_complete, col=\"Race/Ethnicity\", col_wrap=3, height=4, sharex=False)\n",
        "g.map(sns.histplot, \"Proportion(%)\", bins=10, color='teal')\n",
        "\n",
        "# Force axis labels and fix layout\n",
        "g.set_axis_labels(\"Obesity Rate (%)\", \"Count\")\n",
        "g.set_titles(\"{col_name}\")\n",
        "for ax in g.axes.flatten():\n",
        "    ax.tick_params(axis='x', rotation=45)\n",
        "\n",
        "plt.tight_layout()\n",
        "g.fig.subplots_adjust(top=0.9, bottom=0.15)\n",
        "print('Distribution of Obesity Rate by Race/Ethnicity')\n",
        "plt.show();"
      ],
      "metadata": {
        "colab": {
          "base_uri": "https://localhost:8080/",
          "height": 562
        },
        "id": "vAs7vr_K8ZF5",
        "outputId": "acf01b10-9a43-4630-ab3e-b0d467f1918b"
      },
      "execution_count": 141,
      "outputs": [
        {
          "output_type": "stream",
          "name": "stdout",
          "text": [
            "Distribution of Obesity Rate by Race/Ethnicity\n"
          ]
        },
        {
          "output_type": "display_data",
          "data": {
            "text/plain": [
              "<Figure size 1200x1200 with 8 Axes>"
            ],
            "image/png": "[encoded data removed]"
          },
          "metadata": {}
        }
      ]
    },
    {
      "cell_type": "markdown",
      "source": [
        "**Asian adults:**\n",
        "* Have the lowest obesity rates, mostly between 10%–20%\n",
        "* Distribution is tight and consistent, indicating low variability\n",
        "\n",
        "**Non-Hispanic Black and Hispanic adults and 2 or More Races:**\n",
        "\n",
        "* Show higher obesity rates, typically between 30%–45%\n",
        "* Distributions are more concentrated, suggesting consistent trends over time\n",
        "\n",
        "**Non-Hispanic White adults:**\n",
        "\n",
        "* Slightly lower rates than Black and Hispanic groups\n",
        "* Mostly clustered between 25%–35%\n",
        "\n",
        "**American Indian/Alaska Native**\n",
        "\n",
        "* Show wider and more skewed distributions\n",
        "* Some values reach above 60%, with more variation\n",
        "* Smaller sample sizes, might not reflect the truth\n",
        "\n",
        "**Other and Hawaiian/Pacific Islander:**\n",
        "* Also show broad distributions and variability\n",
        "* **Smaller sample sizes, might not reflect the truth**\n"
      ],
      "metadata": {
        "id": "u802EgH6Eu3w"
      }
    },
    {
      "cell_type": "markdown",
      "source": [
        "### 💡 Key Findings of Obesity Rate of Different Ethnicity Group:\n",
        "\n",
        "* Surprisingly, the data reflect that Obesity Rates are not evenly distributed across racial/ethnic groups.\n",
        "\n",
        "* There may be several contributing factors, such as dietary habits, for example:\n",
        "\n",
        "  * some cultures may consume more nutrient-dense foods like rice, while others may have a preference for higher-calorie meals.\n",
        "\n"
      ],
      "metadata": {
        "id": "UnPcx20dITw3"
      }
    },
    {
      "cell_type": "markdown",
      "source": [
        "## Explore the Relationship between Obesity and Income"
      ],
      "metadata": {
        "id": "OK0tw0MnvZfq"
      }
    },
    {
      "cell_type": "markdown",
      "source": [
        "### Extract subset of Obesity Rate of Different Income Group\n",
        "\n",
        "* About 15% of missing and unreported data\n",
        "* Dropped all incomplete records\n",
        "\n"
      ],
      "metadata": {
        "id": "g_IsnbQ_XZlu"
      }
    },
    {
      "cell_type": "code",
      "source": [
        "# Extract subset about obesity rate and income demographic\n",
        "income_obesity = df_2016_2023[(df_2016_2023['Category'] == 'INC') & (df_2016_2023['Question'] == 'Obesity(%)')]"
      ],
      "metadata": {
        "id": "YurUdpldYO-u"
      },
      "execution_count": 158,
      "outputs": []
    },
    {
      "cell_type": "code",
      "source": [
        "# Check missing prop.: 15% data missing\n",
        "pct_missing = np.mean(income_obesity['Proportion(%)'].isnull())\n",
        "pct_missing += np.mean(income_obesity['Income'] == 'Data not reported')\n",
        "pct_missing"
      ],
      "metadata": {
        "colab": {
          "base_uri": "https://localhost:8080/"
        },
        "id": "uR5BJijzYiu-",
        "outputId": "cb195c9c-1dda-45ac-9e3f-a8dea3d1e896"
      },
      "execution_count": 159,
      "outputs": [
        {
          "output_type": "execute_result",
          "data": {
            "text/plain": [
              "np.float64(0.15688193085453359)"
            ]
          },
          "metadata": {},
          "execution_count": 159
        }
      ]
    },
    {
      "cell_type": "code",
      "source": [
        "# Low missing rate, only keep the complete record\n",
        "income_obesity_complete = income_obesity[['Year', 'State', 'Proportion(%)', 'Income']].dropna()\n",
        "income_obesity_complete = income_obesity_complete[income_obesity_complete['Income'] != 'Data not reported']"
      ],
      "metadata": {
        "id": "1Vfx47UEY2UZ"
      },
      "execution_count": 160,
      "outputs": []
    },
    {
      "cell_type": "code",
      "source": [
        "# Sort Income Group from Low to High\n",
        "income_group = income_obesity_complete['Income'].value_counts().sort_index().reset_index()\n",
        "income_order = [2, 3, 4, 5, 6, 1]\n",
        "income_group['Order'] = income_order\n",
        "income_obesity_complete = income_obesity_complete.merge(\n",
        "    income_group[['Income', 'Order']], on='Income').sort_values(by='Order')"
      ],
      "metadata": {
        "id": "nx4icuFzcg7q"
      },
      "execution_count": 161,
      "outputs": []
    },
    {
      "cell_type": "markdown",
      "source": [
        "### Visualization of Obesity Rate by Income Group\n",
        "\n",
        "**While higher income often means a “fatter” wallet, does it also correlate with greater body weight?**"
      ],
      "metadata": {
        "id": "TyHh8RFtfJ9g"
      }
    },
    {
      "cell_type": "code",
      "source": [
        "# Categories of Income Group\n",
        "print('Categories of Income Group:')\n",
        "income_obesity_complete[['Income', 'Order']].value_counts().reset_index().sort_values(by='Order')[['Income']].reset_index(drop=True)\n"
      ],
      "metadata": {
        "colab": {
          "base_uri": "https://localhost:8080/",
          "height": 254
        },
        "id": "mKMQn_IEqrF0",
        "outputId": "4a5ca483-dd2a-434a-a29e-3ab4b7881730"
      },
      "execution_count": 162,
      "outputs": [
        {
          "output_type": "stream",
          "name": "stdout",
          "text": [
            "Categories of Income Group:\n"
          ]
        },
        {
          "output_type": "execute_result",
          "data": {
            "text/plain": [
              "               Income\n",
              "0   Less than $15,000\n",
              "1   $15,000 - $24,999\n",
              "2   $25,000 - $34,999\n",
              "3   $35,000 - $49,999\n",
              "4   $50,000 - $74,999\n",
              "5  $75,000 or greater"
            ],
            "text/html": [
              "\n",
              "  <div id=\"df-ea05effb-4cc1-40f8-9b2c-275a99f2cd44\" class=\"colab-df-container\">\n",
              "    <div>\n",
              "<style scoped>\n",
              "    .dataframe tbody tr th:only-of-type {\n",
              "        vertical-align: middle;\n",
              "    }\n",
              "\n",
              "    .dataframe tbody tr th {\n",
              "        vertical-align: top;\n",
              "    }\n",
              "\n",
              "    .dataframe thead th {\n",
              "        text-align: right;\n",
              "    }\n",
              "</style>\n",
              "<table border=\"1\" class=\"dataframe\">\n",
              "  <thead>\n",
              "    <tr style=\"text-align: right;\">\n",
              "      <th></th>\n",
              "      <th>Income</th>\n",
              "    </tr>\n",
              "  </thead>\n",
              "  <tbody>\n",
              "    <tr>\n",
              "      <th>0</th>\n",
              "      <td>Less than $15,000</td>\n",
              "    </tr>\n",
              "    <tr>\n",
              "      <th>1</th>\n",
              "      <td>$15,000 - $24,999</td>\n",
              "    </tr>\n",
              "    <tr>\n",
              "      <th>2</th>\n",
              "      <td>$25,000 - $34,999</td>\n",
              "    </tr>\n",
              "    <tr>\n",
              "      <th>3</th>\n",
              "      <td>$35,000 - $49,999</td>\n",
              "    </tr>\n",
              "    <tr>\n",
              "      <th>4</th>\n",
              "      <td>$50,000 - $74,999</td>\n",
              "    </tr>\n",
              "    <tr>\n",
              "      <th>5</th>\n",
              "      <td>$75,000 or greater</td>\n",
              "    </tr>\n",
              "  </tbody>\n",
              "</table>\n",
              "</div>\n",
              "    <div class=\"colab-df-buttons\">\n",
              "\n",
              "  <div class=\"colab-df-container\">\n",
              "    <button class=\"colab-df-convert\" onclick=\"convertToInteractive('df-ea05effb-4cc1-40f8-9b2c-275a99f2cd44')\"\n",
              "            title=\"Convert this dataframe to an interactive table.\"\n",
              "            style=\"display:none;\">\n",
              "\n",
              "  <svg xmlns=\"http://www.w3.org/2000/svg\" height=\"24px\" viewBox=\"0 -960 960 960\">\n",
              "    <path d=\"M120-120v-720h720v720H120Zm60-500h600v-160H180v160Zm220 220h160v-160H400v160Zm0 220h160v-160H400v160ZM180-400h160v-160H180v160Zm440 0h160v-160H620v160ZM180-180h160v-160H180v160Zm440 0h160v-160H620v160Z\"/>\n",
              "  </svg>\n",
              "    </button>\n",
              "\n",
              "  <style>\n",
              "    .colab-df-container {\n",
              "      display:flex;\n",
              "      gap: 12px;\n",
              "    }\n",
              "\n",
              "    .colab-df-convert {\n",
              "      background-color: #E8F0FE;\n",
              "      border: none;\n",
              "      border-radius: 50%;\n",
              "      cursor: pointer;\n",
              "      display: none;\n",
              "      fill: #1967D2;\n",
              "      height: 32px;\n",
              "      padding: 0 0 0 0;\n",
              "      width: 32px;\n",
              "    }\n",
              "\n",
              "    .colab-df-convert:hover {\n",
              "      background-color: #E2EBFA;\n",
              "      box-shadow: 0px 1px 2px rgba(60, 64, 67, 0.3), 0px 1px 3px 1px rgba(60, 64, 67, 0.15);\n",
              "      fill: #174EA6;\n",
              "    }\n",
              "\n",
              "    .colab-df-buttons div {\n",
              "      margin-bottom: 4px;\n",
              "    }\n",
              "\n",
              "    [theme=dark] .colab-df-convert {\n",
              "      background-color: #3B4455;\n",
              "      fill: #D2E3FC;\n",
              "    }\n",
              "\n",
              "    [theme=dark] .colab-df-convert:hover {\n",
              "      background-color: #434B5C;\n",
              "      box-shadow: 0px 1px 3px 1px rgba(0, 0, 0, 0.15);\n",
              "      filter: drop-shadow(0px 1px 2px rgba(0, 0, 0, 0.3));\n",
              "      fill: #FFFFFF;\n",
              "    }\n",
              "  </style>\n",
              "\n",
              "    <script>\n",
              "      const buttonEl =\n",
              "        document.querySelector('#df-ea05effb-4cc1-40f8-9b2c-275a99f2cd44 button.colab-df-convert');\n",
              "      buttonEl.style.display =\n",
              "        google.colab.kernel.accessAllowed ? 'block' : 'none';\n",
              "\n",
              "      async function convertToInteractive(key) {\n",
              "        const element = document.querySelector('#df-ea05effb-4cc1-40f8-9b2c-275a99f2cd44');\n",
              "        const dataTable =\n",
              "          await google.colab.kernel.invokeFunction('convertToInteractive',\n",
              "                                                    [key], {});\n",
              "        if (!dataTable) return;\n",
              "\n",
              "        const docLinkHtml = 'Like what you see? Visit the ' +\n",
              "          '<a target=\"_blank\" href=https://colab.research.google.com/notebooks/data_table.ipynb>data table notebook</a>'\n",
              "          + ' to learn more about interactive tables.';\n",
              "        element.innerHTML = '';\n",
              "        dataTable['output_type'] = 'display_data';\n",
              "        await google.colab.output.renderOutput(dataTable, element);\n",
              "        const docLink = document.createElement('div');\n",
              "        docLink.innerHTML = docLinkHtml;\n",
              "        element.appendChild(docLink);\n",
              "      }\n",
              "    </script>\n",
              "  </div>\n",
              "\n",
              "\n",
              "    <div id=\"df-29553f93-3fc3-48f9-8ec1-94a2c244e950\">\n",
              "      <button class=\"colab-df-quickchart\" onclick=\"quickchart('df-29553f93-3fc3-48f9-8ec1-94a2c244e950')\"\n",
              "                title=\"Suggest charts\"\n",
              "                style=\"display:none;\">\n",
              "\n",
              "<svg xmlns=\"http://www.w3.org/2000/svg\" height=\"24px\"viewBox=\"0 0 24 24\"\n",
              "     width=\"24px\">\n",
              "    <g>\n",
              "        <path d=\"M19 3H5c-1.1 0-2 .9-2 2v14c0 1.1.9 2 2 2h14c1.1 0 2-.9 2-2V5c0-1.1-.9-2-2-2zM9 17H7v-7h2v7zm4 0h-2V7h2v10zm4 0h-2v-4h2v4z\"/>\n",
              "    </g>\n",
              "</svg>\n",
              "      </button>\n",
              "\n",
              "<style>\n",
              "  .colab-df-quickchart {\n",
              "      --bg-color: #E8F0FE;\n",
              "      --fill-color: #1967D2;\n",
              "      --hover-bg-color: #E2EBFA;\n",
              "      --hover-fill-color: #174EA6;\n",
              "      --disabled-fill-color: #AAA;\n",
              "      --disabled-bg-color: #DDD;\n",
              "  }\n",
              "\n",
              "  [theme=dark] .colab-df-quickchart {\n",
              "      --bg-color: #3B4455;\n",
              "      --fill-color: #D2E3FC;\n",
              "      --hover-bg-color: #434B5C;\n",
              "      --hover-fill-color: #FFFFFF;\n",
              "      --disabled-bg-color: #3B4455;\n",
              "      --disabled-fill-color: #666;\n",
              "  }\n",
              "\n",
              "  .colab-df-quickchart {\n",
              "    background-color: var(--bg-color);\n",
              "    border: none;\n",
              "    border-radius: 50%;\n",
              "    cursor: pointer;\n",
              "    display: none;\n",
              "    fill: var(--fill-color);\n",
              "    height: 32px;\n",
              "    padding: 0;\n",
              "    width: 32px;\n",
              "  }\n",
              "\n",
              "  .colab-df-quickchart:hover {\n",
              "    background-color: var(--hover-bg-color);\n",
              "    box-shadow: 0 1px 2px rgba(60, 64, 67, 0.3), 0 1px 3px 1px rgba(60, 64, 67, 0.15);\n",
              "    fill: var(--button-hover-fill-color);\n",
              "  }\n",
              "\n",
              "  .colab-df-quickchart-complete:disabled,\n",
              "  .colab-df-quickchart-complete:disabled:hover {\n",
              "    background-color: var(--disabled-bg-color);\n",
              "    fill: var(--disabled-fill-color);\n",
              "    box-shadow: none;\n",
              "  }\n",
              "\n",
              "  .colab-df-spinner {\n",
              "    border: 2px solid var(--fill-color);\n",
              "    border-color: transparent;\n",
              "    border-bottom-color: var(--fill-color);\n",
              "    animation:\n",
              "      spin 1s steps(1) infinite;\n",
              "  }\n",
              "\n",
              "  @keyframes spin {\n",
              "    0% {\n",
              "      border-color: transparent;\n",
              "      border-bottom-color: var(--fill-color);\n",
              "      border-left-color: var(--fill-color);\n",
              "    }\n",
              "    20% {\n",
              "      border-color: transparent;\n",
              "      border-left-color: var(--fill-color);\n",
              "      border-top-color: var(--fill-color);\n",
              "    }\n",
              "    30% {\n",
              "      border-color: transparent;\n",
              "      border-left-color: var(--fill-color);\n",
              "      border-top-color: var(--fill-color);\n",
              "      border-right-color: var(--fill-color);\n",
              "    }\n",
              "    40% {\n",
              "      border-color: transparent;\n",
              "      border-right-color: var(--fill-color);\n",
              "      border-top-color: var(--fill-color);\n",
              "    }\n",
              "    60% {\n",
              "      border-color: transparent;\n",
              "      border-right-color: var(--fill-color);\n",
              "    }\n",
              "    80% {\n",
              "      border-color: transparent;\n",
              "      border-right-color: var(--fill-color);\n",
              "      border-bottom-color: var(--fill-color);\n",
              "    }\n",
              "    90% {\n",
              "      border-color: transparent;\n",
              "      border-bottom-color: var(--fill-color);\n",
              "    }\n",
              "  }\n",
              "</style>\n",
              "\n",
              "      <script>\n",
              "        async function quickchart(key) {\n",
              "          const quickchartButtonEl =\n",
              "            document.querySelector('#' + key + ' button');\n",
              "          quickchartButtonEl.disabled = true;  // To prevent multiple clicks.\n",
              "          quickchartButtonEl.classList.add('colab-df-spinner');\n",
              "          try {\n",
              "            const charts = await google.colab.kernel.invokeFunction(\n",
              "                'suggestCharts', [key], {});\n",
              "          } catch (error) {\n",
              "            console.error('Error during call to suggestCharts:', error);\n",
              "          }\n",
              "          quickchartButtonEl.classList.remove('colab-df-spinner');\n",
              "          quickchartButtonEl.classList.add('colab-df-quickchart-complete');\n",
              "        }\n",
              "        (() => {\n",
              "          let quickchartButtonEl =\n",
              "            document.querySelector('#df-29553f93-3fc3-48f9-8ec1-94a2c244e950 button');\n",
              "          quickchartButtonEl.style.display =\n",
              "            google.colab.kernel.accessAllowed ? 'block' : 'none';\n",
              "        })();\n",
              "      </script>\n",
              "    </div>\n",
              "\n",
              "    </div>\n",
              "  </div>\n"
            ],
            "application/vnd.google.colaboratory.intrinsic+json": {
              "type": "dataframe",
              "summary": "{\n  \"name\": \"income_obesity_complete[['Income', 'Order']]\",\n  \"rows\": 6,\n  \"fields\": [\n    {\n      \"column\": \"Income\",\n      \"properties\": {\n        \"dtype\": \"string\",\n        \"num_unique_values\": 6,\n        \"samples\": [\n          \"Less than $15,000\",\n          \"$15,000 - $24,999\",\n          \"$75,000 or greater\"\n        ],\n        \"semantic_type\": \"\",\n        \"description\": \"\"\n      }\n    }\n  ]\n}"
            }
          },
          "metadata": {},
          "execution_count": 162
        }
      ]
    },
    {
      "cell_type": "code",
      "source": [
        "# Boxplot of Obesity Rate by Income Group\n",
        "sns.boxplot(data=income_obesity_complete, x='Income', y='Proportion(%)')\n",
        "plt.xticks(rotation=20)\n",
        "plt.title('Obesity Rate by Income Group', fontsize=20, fontweight='bold')\n",
        "plt.xlabel('Income Group')\n",
        "plt.ylabel('Obesity Rate (%)');"
      ],
      "metadata": {
        "colab": {
          "base_uri": "https://localhost:8080/",
          "height": 493
        },
        "id": "xv2K6pQxaNnj",
        "outputId": "02ed0c6b-0896-4677-ed8c-87985c73b1d1"
      },
      "execution_count": 163,
      "outputs": [
        {
          "output_type": "display_data",
          "data": {
            "text/plain": [
              "<Figure size 1200x800 with 1 Axes>"
            ],
            "image/png": "[encoded data removed]"
          },
          "metadata": {}
        }
      ]
    },
    {
      "cell_type": "markdown",
      "source": [
        "**Trend:**\n",
        "* Obesity rates decrease as income increases, showing a clear inverse relationship. (median, 1st and 3rd quatiles all show a declining trend)\n",
        "\n",
        "**Lowest income group (“< $15,000”):**\n",
        "\n",
        "* Highest median obesity rate (~37–38%)\n",
        "\n",
        "* Widest spread with more high-end outliers\n",
        "\n",
        "**Highest income group (“$75,000 or greater”):**\n",
        "\n",
        "* Lowest median (~30%)\n",
        "\n",
        "* Tighter distribution, fewer extreme values\n",
        "\n",
        "**Outliers:**\n",
        "\n",
        "* All income groups have some outliers\n",
        "\n",
        "* But the lowest and highest income groups show the most extreme values/outliers"
      ],
      "metadata": {
        "id": "HdQZbIMxilBF"
      }
    },
    {
      "cell_type": "markdown",
      "source": [
        "### 💡 Key Findings of Obesity Rate by Income Group\n",
        "* Income is a strong socioeconomic factor in obesity disparities.\n",
        "\n",
        "* Individuals in lower income brackets may face barriers like:\n",
        "\n",
        "  * Limited access to healthy food\n",
        "\n",
        "  * Fewer opportunities for physical activity\n",
        "\n",
        "  * Less health education or support"
      ],
      "metadata": {
        "id": "PkAoOMV7pj4u"
      }
    },
    {
      "cell_type": "markdown",
      "source": [
        "## Explore the Relationship between Obesity and Biological Gender"
      ],
      "metadata": {
        "id": "Tzr66OQbvjtz"
      }
    },
    {
      "cell_type": "markdown",
      "source": [
        "### Extract subset of Obesity Rate Related to Sex\n",
        "\n",
        "* 1.4% missing records\n",
        "* Dropped all missing records"
      ],
      "metadata": {
        "id": "wh6Tssktuwpn"
      }
    },
    {
      "cell_type": "code",
      "source": [
        "# Extract records that are related to obesity and gender\n",
        "gender_obesity = df_2016_2023[(df_2016_2023['Category'] == 'SEX') & (df_2016_2023['Question'] == 'Obesity(%)')]"
      ],
      "metadata": {
        "id": "8W6Fbf0etSmg"
      },
      "execution_count": 164,
      "outputs": []
    },
    {
      "cell_type": "code",
      "source": [
        "# Check categories\n",
        "gender_obesity['Sex'].value_counts()"
      ],
      "metadata": {
        "colab": {
          "base_uri": "https://localhost:8080/",
          "height": 178
        },
        "id": "R7c_k76XwkFU",
        "outputId": "b902714d-8b8c-4d36-fd49-e66fa382deeb"
      },
      "execution_count": 165,
      "outputs": [
        {
          "output_type": "execute_result",
          "data": {
            "text/plain": [
              "Sex\n",
              "Male      438\n",
              "Female    438\n",
              "Name: count, dtype: int64"
            ],
            "text/html": [
              "<div>\n",
              "<style scoped>\n",
              "    .dataframe tbody tr th:only-of-type {\n",
              "        vertical-align: middle;\n",
              "    }\n",
              "\n",
              "    .dataframe tbody tr th {\n",
              "        vertical-align: top;\n",
              "    }\n",
              "\n",
              "    .dataframe thead th {\n",
              "        text-align: right;\n",
              "    }\n",
              "</style>\n",
              "<table border=\"1\" class=\"dataframe\">\n",
              "  <thead>\n",
              "    <tr style=\"text-align: right;\">\n",
              "      <th></th>\n",
              "      <th>count</th>\n",
              "    </tr>\n",
              "    <tr>\n",
              "      <th>Sex</th>\n",
              "      <th></th>\n",
              "    </tr>\n",
              "  </thead>\n",
              "  <tbody>\n",
              "    <tr>\n",
              "      <th>Male</th>\n",
              "      <td>438</td>\n",
              "    </tr>\n",
              "    <tr>\n",
              "      <th>Female</th>\n",
              "      <td>438</td>\n",
              "    </tr>\n",
              "  </tbody>\n",
              "</table>\n",
              "</div><br><label><b>dtype:</b> int64</label>"
            ]
          },
          "metadata": {},
          "execution_count": 165
        }
      ]
    },
    {
      "cell_type": "code",
      "source": [
        "# Check prop. of missing data: 1.4% missing\n",
        "pct_missing = np.mean(income_obesity['Proportion(%)'].isnull())\n",
        "pct_missing"
      ],
      "metadata": {
        "colab": {
          "base_uri": "https://localhost:8080/"
        },
        "id": "tPsJQCsQv_4g",
        "outputId": "51f6b11c-b4a0-4976-fea0-790b01f7b5ad"
      },
      "execution_count": 166,
      "outputs": [
        {
          "output_type": "execute_result",
          "data": {
            "text/plain": [
              "np.float64(0.014024787997390736)"
            ]
          },
          "metadata": {},
          "execution_count": 166
        }
      ]
    },
    {
      "cell_type": "code",
      "source": [
        "# Drop incomplete records\n",
        "gender_obesity_complete = gender_obesity[['Year', 'State', 'Proportion(%)', 'Sex']].dropna()"
      ],
      "metadata": {
        "id": "WtMa3cBjwiZw"
      },
      "execution_count": 167,
      "outputs": []
    },
    {
      "cell_type": "code",
      "source": [
        "# mean of obesity rate for both genders\n",
        "male_obesity = gender_obesity_complete[gender_obesity_complete['Sex'] == 'Male']\n",
        "female_obesity = gender_obesity_complete[gender_obesity_complete['Sex'] == 'Female']\n",
        "male_mean = np.mean(male_obesity['Proportion(%)'])\n",
        "female_mean = np.mean(female_obesity['Proportion(%)'])\n",
        "male_mean, female_mean"
      ],
      "metadata": {
        "colab": {
          "base_uri": "https://localhost:8080/"
        },
        "id": "4eHC39IxzlmU",
        "outputId": "c7b04a65-5917-4860-dd38-fef70de605de"
      },
      "execution_count": 169,
      "outputs": [
        {
          "output_type": "execute_result",
          "data": {
            "text/plain": [
              "(np.float64(31.73263888888889), np.float64(32.43958333333333))"
            ]
          },
          "metadata": {},
          "execution_count": 169
        }
      ]
    },
    {
      "cell_type": "markdown",
      "source": [
        "### Visualization of Obesity Rate by Sex"
      ],
      "metadata": {
        "id": "t4IcjAR5-8tL"
      }
    },
    {
      "cell_type": "code",
      "source": [
        "# Set up color mapping for consistency\n",
        "color_map = {'Male': 'blue', 'Female': 'red'}\n",
        "plt.figure(figsize=(10, 6))\n",
        "# KDE plot with fill\n",
        "sns.kdeplot(data=gender_obesity_complete, x='Proportion(%)', hue='Sex', common_norm=False,\n",
        "            fill=True, alpha=0.4, palette=color_map)\n",
        "# Plot mean lines + label for each group\n",
        "for sex in ['Male', 'Female']:\n",
        "    mean_val = gender_obesity_complete[gender_obesity_complete['Sex'] == sex]['Proportion(%)'].mean()\n",
        "    color = color_map[sex]\n",
        "    plt.axvline(mean_val, linestyle='--', color=color, linewidth=2)\n",
        "# Label for each gender\n",
        "plt.text(male_mean - 7.5, plt.ylim()[1] * 0.6, f'Male Mean: {male_mean:.1f}%',\n",
        "             color='black', fontsize=12, fontweight='bold')\n",
        "plt.text(female_mean + 0.2, plt.ylim()[1] * 0.5, f'Female Mean: {female_mean:.1f}%',\n",
        "             color='black', fontsize=12, fontweight='bold')\n",
        "# Final touches\n",
        "plt.title('Obesity Rate Distribution by Sex', fontsize=20, fontweight='bold')\n",
        "plt.xlabel('Obesity Rate (%)')\n",
        "plt.ylabel('Density')\n",
        "plt.tight_layout();"
      ],
      "metadata": {
        "colab": {
          "base_uri": "https://localhost:8080/",
          "height": 392
        },
        "id": "hYJvRVVD1ztE",
        "outputId": "7073cf24-d285-45fd-bc02-3882ccc1bfb1"
      },
      "execution_count": 170,
      "outputs": [
        {
          "output_type": "display_data",
          "data": {
            "text/plain": [
              "<Figure size 1000x600 with 1 Axes>"
            ],
            "image/png": "[encoded data removed]"
          },
          "metadata": {}
        }
      ]
    },
    {
      "cell_type": "markdown",
      "source": [
        "* The KDE plot compares the distribution of obesity rates between adult males and females in the U.S.\n",
        "\n",
        "* Females have a slightly higher mean rate (32.4%) than males (31.7%).\n",
        "\n",
        "* While both distributions are approximately normal, but the female curve is slightly wider.\n",
        "\n",
        "* Huge overlap area between the two curves."
      ],
      "metadata": {
        "id": "Rdj1d15bDIUN"
      }
    },
    {
      "cell_type": "markdown",
      "source": [
        "### 💡 Key Findings from Obesity Rate by Sex\n",
        "\n",
        "* Greater spread among females suggests more variation in obesity within the gender group\n",
        "*\n",
        "While the data shows that females tend to have a slightly higher average obesity rate, the  overlap between the two distr. indicates that obesity affects both sexes similarly.\n",
        "\n",
        "* Sex may play a minor role in obesity trends, but based on this distribution alone, it may not be a strong standalone predictor."
      ],
      "metadata": {
        "id": "VeweDoRZAV1l"
      }
    },
    {
      "cell_type": "markdown",
      "source": [
        "##Explore the Relationship between Obesity and Education"
      ],
      "metadata": {
        "id": "1yBI3Y_Xin1T"
      }
    },
    {
      "cell_type": "markdown",
      "source": [
        "###Extract subset related to obesity rate and education\n",
        "\n",
        "* Dropped 1.4% missing record"
      ],
      "metadata": {
        "id": "jvjOBn9FnhSl"
      }
    },
    {
      "cell_type": "code",
      "source": [
        "# Extract subset\n",
        "ed_obesity = df_2016_2023[(df_2016_2023['Category']=='EDU') & (df_2016_2023['Question']=='Obesity(%)')]"
      ],
      "metadata": {
        "id": "Gu3eCMIF2-mf"
      },
      "execution_count": 171,
      "outputs": []
    },
    {
      "cell_type": "code",
      "source": [
        "# Dropping unnecessary columns\n",
        "ed_obesity = ed_obesity[['Year', 'State', 'Proportion(%)', 'Education']]"
      ],
      "metadata": {
        "id": "vATx497is7f6"
      },
      "execution_count": 172,
      "outputs": []
    },
    {
      "cell_type": "code",
      "source": [
        "# Check missing data: 1.4% missing\n",
        "pct_missing = np.mean(ed_obesity['Proportion(%)'].isnull())\n",
        "pct_missing"
      ],
      "metadata": {
        "colab": {
          "base_uri": "https://localhost:8080/"
        },
        "id": "Jg5CpwDtzygy",
        "outputId": "a1104e5f-e309-421d-9527-bf704b9d8051"
      },
      "execution_count": 174,
      "outputs": [
        {
          "output_type": "execute_result",
          "data": {
            "text/plain": [
              "np.float64(0.0)"
            ]
          },
          "metadata": {},
          "execution_count": 174
        }
      ]
    },
    {
      "cell_type": "code",
      "source": [
        "# Drop missing data\n",
        "ed_obesity = ed_obesity.dropna()"
      ],
      "metadata": {
        "id": "29YNfU0gboY9"
      },
      "execution_count": 173,
      "outputs": []
    },
    {
      "cell_type": "code",
      "source": [
        "# Sort Education Group from Low to High\n",
        "ed_group = ed_obesity['Education'].value_counts().sort_index().reset_index()\n",
        "ed_order = [4, 2, 1, 3]\n",
        "ed_group['Order'] = ed_order\n",
        "ed_obesity_ordered = ed_obesity.merge(\n",
        "    ed_group[['Education', 'Order']], on='Education').sort_values(by='Order')"
      ],
      "metadata": {
        "id": "JokpJ-Gt-VvH"
      },
      "execution_count": 175,
      "outputs": []
    },
    {
      "cell_type": "code",
      "source": [
        "# get median of each education level\n",
        "ed_median = ed_obesity_ordered.groupby('Education')['Proportion(%)'].median()\n",
        "ed_median"
      ],
      "metadata": {
        "id": "dnrRQS0JqJ88",
        "colab": {
          "base_uri": "https://localhost:8080/",
          "height": 240
        },
        "outputId": "bd61a3b6-4ec6-44e3-c8b4-8e27f76364e1"
      },
      "execution_count": 176,
      "outputs": [
        {
          "output_type": "execute_result",
          "data": {
            "text/plain": [
              "Education\n",
              "College graduate                    26.60\n",
              "High school graduate                34.30\n",
              "Less than high school               35.60\n",
              "Some college or technical school    34.35\n",
              "Name: Proportion(%), dtype: float64"
            ],
            "text/html": [
              "<div>\n",
              "<style scoped>\n",
              "    .dataframe tbody tr th:only-of-type {\n",
              "        vertical-align: middle;\n",
              "    }\n",
              "\n",
              "    .dataframe tbody tr th {\n",
              "        vertical-align: top;\n",
              "    }\n",
              "\n",
              "    .dataframe thead th {\n",
              "        text-align: right;\n",
              "    }\n",
              "</style>\n",
              "<table border=\"1\" class=\"dataframe\">\n",
              "  <thead>\n",
              "    <tr style=\"text-align: right;\">\n",
              "      <th></th>\n",
              "      <th>Proportion(%)</th>\n",
              "    </tr>\n",
              "    <tr>\n",
              "      <th>Education</th>\n",
              "      <th></th>\n",
              "    </tr>\n",
              "  </thead>\n",
              "  <tbody>\n",
              "    <tr>\n",
              "      <th>College graduate</th>\n",
              "      <td>26.60</td>\n",
              "    </tr>\n",
              "    <tr>\n",
              "      <th>High school graduate</th>\n",
              "      <td>34.30</td>\n",
              "    </tr>\n",
              "    <tr>\n",
              "      <th>Less than high school</th>\n",
              "      <td>35.60</td>\n",
              "    </tr>\n",
              "    <tr>\n",
              "      <th>Some college or technical school</th>\n",
              "      <td>34.35</td>\n",
              "    </tr>\n",
              "  </tbody>\n",
              "</table>\n",
              "</div><br><label><b>dtype:</b> float64</label>"
            ]
          },
          "metadata": {},
          "execution_count": 176
        }
      ]
    },
    {
      "cell_type": "code",
      "source": [
        "# store the medians into a dictionary\n",
        "medians = {\n",
        "    'Less than high school': 35.6,\n",
        "    'High school graduate': 34.3,\n",
        "    'Some college or technical school': 34.35,\n",
        "    'College graduate': 26.60\n",
        "}"
      ],
      "metadata": {
        "id": "ZtukDe0bW1NA"
      },
      "execution_count": 177,
      "outputs": []
    },
    {
      "cell_type": "markdown",
      "source": [
        "### Visualization of Obesity Rate by Education Level"
      ],
      "metadata": {
        "id": "AeyHHYYYWETW"
      }
    },
    {
      "cell_type": "code",
      "source": [
        "# Create violin plot\n",
        "sns.violinplot(data=ed_obesity_ordered, x='Education', y='Proportion(%)', palette='Set2', inner='box')\n",
        "plt.title('Obesity Rate Distribution by Education Level')\n",
        "plt.ylabel('Obesity Rate (%)')\n",
        "plt.xlabel('Education Level')\n",
        "for i, (edu_level, median_val) in enumerate(medians.items()):\n",
        "    plt.text(i+0.18, median_val + 0.5, f'Median:\\n{median_val:.1f}%',\n",
        "             ha='center', va='bottom', fontsize=10, fontweight='bold', color='black')"
      ],
      "metadata": {
        "colab": {
          "base_uri": "https://localhost:8080/",
          "height": 461
        },
        "id": "NufK2MmpbkAJ",
        "outputId": "f3de2a07-1ae1-446c-d8ef-1600232af959"
      },
      "execution_count": 179,
      "outputs": [
        {
          "output_type": "display_data",
          "data": {
            "text/plain": [
              "<Figure size 1200x800 with 1 Axes>"
            ],
            "image/png": "[encoded data removed]"
          },
          "metadata": {}
        }
      ]
    },
    {
      "cell_type": "markdown",
      "source": [
        "* Obesity rates gradually decline across the first three education levels, but drop sharply for college graduates.\n",
        "\n",
        "* College graduates show the lowest median (26.6%) vs. 34-36% for the other groups.\n",
        "\n",
        "* Distributions:\n",
        "  * Less than high school: right skewed\n",
        "  * High School: approximately normal\n",
        "  * Some college: slightly left-skewed\n",
        "  * College graduate: more spreaded but approximately normal"
      ],
      "metadata": {
        "id": "HyyXsyC38JNL"
      }
    },
    {
      "cell_type": "markdown",
      "source": [
        "### 💡 Key Findings from Obesity Rate by Education Level\n",
        "\n",
        "* Major reduction in obesity appears only at the college graduate level.\n",
        "\n",
        "* Higher education is tied to lower and more stable obesity outcomes.\n",
        "  * Perhaps higher education provide better health education or even critical thinking skills that help those graduates maintain healthier life-style.\n",
        "\n",
        "* More outliers and spread in lower education group (~16-53%) show less health consistency."
      ],
      "metadata": {
        "id": "77E7ox4f_YlB"
      }
    },
    {
      "cell_type": "markdown",
      "source": [
        "## Explore the Relationship between Obesity and Age"
      ],
      "metadata": {
        "id": "Heb_Zjj9FFTp"
      }
    },
    {
      "cell_type": "markdown",
      "source": [
        "### Extract Subset of Obesity Rate and Age Group\n",
        "\n",
        "* Dropped 1.3% missing records"
      ],
      "metadata": {
        "id": "bsToORNTFLAc"
      }
    },
    {
      "cell_type": "code",
      "source": [
        "# Extract related records\n",
        "age_obesity = df_2016_2023[(df_2016_2023['Category'] == 'AGEYR') & (df_2016_2023['Question'] == 'Obesity(%)')]"
      ],
      "metadata": {
        "id": "GBgxCndMpIUe"
      },
      "execution_count": 180,
      "outputs": []
    },
    {
      "cell_type": "code",
      "source": [
        "# Check missing records: 1.3% missing\n",
        "pct_missing = np.mean(age_obesity['Proportion(%)'].isnull())\n",
        "pct_missing"
      ],
      "metadata": {
        "colab": {
          "base_uri": "https://localhost:8080/"
        },
        "id": "_HS8P2UjGPOj",
        "outputId": "0e49d677-09e7-4860-dd54-5431adf5d448"
      },
      "execution_count": 181,
      "outputs": [
        {
          "output_type": "execute_result",
          "data": {
            "text/plain": [
              "np.float64(0.0136986301369863)"
            ]
          },
          "metadata": {},
          "execution_count": 181
        }
      ]
    },
    {
      "cell_type": "code",
      "source": [
        "# Drop missing records:\n",
        "age_complete = age_obesity[['Year', 'State', 'Proportion(%)', 'Age']].dropna()\n",
        "age_complete.sort_values(by='Age', inplace=True)\n",
        "age_complete.shape, age_complete.head(3)"
      ],
      "metadata": {
        "colab": {
          "base_uri": "https://localhost:8080/"
        },
        "id": "G_ZMwKl9GVk2",
        "outputId": "5f6f3e96-6e01-4083-8125-702c1b3387ea"
      },
      "execution_count": 182,
      "outputs": [
        {
          "output_type": "execute_result",
          "data": {
            "text/plain": [
              "((2592, 4),\n",
              "        Year     State  Proportion(%)      Age\n",
              " 46417  2021      Ohio           21.8  18 - 24\n",
              " 6757   2017  Delaware           15.5  18 - 24\n",
              " 19820  2018  Illinois           16.8  18 - 24)"
            ]
          },
          "metadata": {},
          "execution_count": 182
        }
      ]
    },
    {
      "cell_type": "code",
      "source": [
        "# see avg of each group\n",
        "age_avg = age_complete.groupby('Age')['Proportion(%)'].mean()\n",
        "age_avg"
      ],
      "metadata": {
        "colab": {
          "base_uri": "https://localhost:8080/",
          "height": 303
        },
        "id": "FiBuSvLrSoN1",
        "outputId": "0a2980dc-5455-43f4-da35-16fb221f1f79"
      },
      "execution_count": 184,
      "outputs": [
        {
          "output_type": "execute_result",
          "data": {
            "text/plain": [
              "Age\n",
              "18 - 24        19.595833\n",
              "25 - 34        31.165741\n",
              "35 - 44        35.834491\n",
              "45 - 54        38.504630\n",
              "55 - 64        36.599074\n",
              "65 or older    29.300694\n",
              "Name: Proportion(%), dtype: float64"
            ],
            "text/html": [
              "<div>\n",
              "<style scoped>\n",
              "    .dataframe tbody tr th:only-of-type {\n",
              "        vertical-align: middle;\n",
              "    }\n",
              "\n",
              "    .dataframe tbody tr th {\n",
              "        vertical-align: top;\n",
              "    }\n",
              "\n",
              "    .dataframe thead th {\n",
              "        text-align: right;\n",
              "    }\n",
              "</style>\n",
              "<table border=\"1\" class=\"dataframe\">\n",
              "  <thead>\n",
              "    <tr style=\"text-align: right;\">\n",
              "      <th></th>\n",
              "      <th>Proportion(%)</th>\n",
              "    </tr>\n",
              "    <tr>\n",
              "      <th>Age</th>\n",
              "      <th></th>\n",
              "    </tr>\n",
              "  </thead>\n",
              "  <tbody>\n",
              "    <tr>\n",
              "      <th>18 - 24</th>\n",
              "      <td>19.595833</td>\n",
              "    </tr>\n",
              "    <tr>\n",
              "      <th>25 - 34</th>\n",
              "      <td>31.165741</td>\n",
              "    </tr>\n",
              "    <tr>\n",
              "      <th>35 - 44</th>\n",
              "      <td>35.834491</td>\n",
              "    </tr>\n",
              "    <tr>\n",
              "      <th>45 - 54</th>\n",
              "      <td>38.504630</td>\n",
              "    </tr>\n",
              "    <tr>\n",
              "      <th>55 - 64</th>\n",
              "      <td>36.599074</td>\n",
              "    </tr>\n",
              "    <tr>\n",
              "      <th>65 or older</th>\n",
              "      <td>29.300694</td>\n",
              "    </tr>\n",
              "  </tbody>\n",
              "</table>\n",
              "</div><br><label><b>dtype:</b> float64</label>"
            ]
          },
          "metadata": {},
          "execution_count": 184
        }
      ]
    },
    {
      "cell_type": "code",
      "source": [
        "# see median of each group\n",
        "age_median = age_complete.groupby('Age')['Proportion(%)'].median()\n",
        "age_median"
      ],
      "metadata": {
        "colab": {
          "base_uri": "https://localhost:8080/",
          "height": 303
        },
        "id": "BJ8GBNKGULJJ",
        "outputId": "bbd08a6d-9c5a-4dcb-890d-d0bde0f115bd"
      },
      "execution_count": 185,
      "outputs": [
        {
          "output_type": "execute_result",
          "data": {
            "text/plain": [
              "Age\n",
              "18 - 24        19.5\n",
              "25 - 34        31.1\n",
              "35 - 44        35.8\n",
              "45 - 54        38.7\n",
              "55 - 64        36.6\n",
              "65 or older    29.6\n",
              "Name: Proportion(%), dtype: float64"
            ],
            "text/html": [
              "<div>\n",
              "<style scoped>\n",
              "    .dataframe tbody tr th:only-of-type {\n",
              "        vertical-align: middle;\n",
              "    }\n",
              "\n",
              "    .dataframe tbody tr th {\n",
              "        vertical-align: top;\n",
              "    }\n",
              "\n",
              "    .dataframe thead th {\n",
              "        text-align: right;\n",
              "    }\n",
              "</style>\n",
              "<table border=\"1\" class=\"dataframe\">\n",
              "  <thead>\n",
              "    <tr style=\"text-align: right;\">\n",
              "      <th></th>\n",
              "      <th>Proportion(%)</th>\n",
              "    </tr>\n",
              "    <tr>\n",
              "      <th>Age</th>\n",
              "      <th></th>\n",
              "    </tr>\n",
              "  </thead>\n",
              "  <tbody>\n",
              "    <tr>\n",
              "      <th>18 - 24</th>\n",
              "      <td>19.5</td>\n",
              "    </tr>\n",
              "    <tr>\n",
              "      <th>25 - 34</th>\n",
              "      <td>31.1</td>\n",
              "    </tr>\n",
              "    <tr>\n",
              "      <th>35 - 44</th>\n",
              "      <td>35.8</td>\n",
              "    </tr>\n",
              "    <tr>\n",
              "      <th>45 - 54</th>\n",
              "      <td>38.7</td>\n",
              "    </tr>\n",
              "    <tr>\n",
              "      <th>55 - 64</th>\n",
              "      <td>36.6</td>\n",
              "    </tr>\n",
              "    <tr>\n",
              "      <th>65 or older</th>\n",
              "      <td>29.6</td>\n",
              "    </tr>\n",
              "  </tbody>\n",
              "</table>\n",
              "</div><br><label><b>dtype:</b> float64</label>"
            ]
          },
          "metadata": {},
          "execution_count": 185
        }
      ]
    },
    {
      "cell_type": "code",
      "source": [
        "# Create a dictionary to display medians on the plot\n",
        "medians = {\n",
        "    '18 - 24': 19.5,\n",
        "    '25 - 34': 31.1,\n",
        "    '35 - 44': 35.8,\n",
        "    '45 - 54': 38.7,\n",
        "    '55 - 64': 36.6,\n",
        "    '65 or older': 29.6\n",
        "}"
      ],
      "metadata": {
        "id": "b4BkkIRMWp6V"
      },
      "execution_count": 186,
      "outputs": []
    },
    {
      "cell_type": "markdown",
      "source": [
        "### Visualizations of Obesity Rate by Age"
      ],
      "metadata": {
        "id": "4q5hkd9na9FS"
      }
    },
    {
      "cell_type": "code",
      "source": [
        "# Create violin plot\n",
        "sns.boxplot(data=age_complete, x='Age', y='Proportion(%)', palette='Set2')\n",
        "plt.title('Obesity Rate Distribution by Age Group')\n",
        "plt.ylabel('Obesity Rate (%)')\n",
        "plt.xlabel('Age Group')\n",
        "# display medians on the plot\n",
        "for i, (age_group, median_val) in enumerate(medians.items()):\n",
        "    plt.text(i+0.22, median_val + 4, f'Median:\\n{median_val:.1f}%',\n",
        "             ha='center', va='bottom', fontsize=10, fontweight='bold', color='black')"
      ],
      "metadata": {
        "colab": {
          "base_uri": "https://localhost:8080/",
          "height": 461
        },
        "id": "R4dBmTpcU-J7",
        "outputId": "e3ac1891-7fdb-4568-a118-3d81f5599438"
      },
      "execution_count": 187,
      "outputs": [
        {
          "output_type": "display_data",
          "data": {
            "text/plain": [
              "<Figure size 1200x800 with 1 Axes>"
            ],
            "image/png": "[encoded data removed]"
          },
          "metadata": {}
        }
      ]
    },
    {
      "cell_type": "markdown",
      "source": [
        " * Obesity rates increase steadily from young adulthood (18–24) to middle age (45–54), then begin to decline slightly in older age (65+).\n",
        "\n",
        " * The median peaks at 38.7% for adults aged 45-54, while the lowest median is in the 18-24 group (19.5%)"
      ],
      "metadata": {
        "id": "ZdmQ8aHJdMe9"
      }
    },
    {
      "cell_type": "markdown",
      "source": [
        "### 💡 Key Findings from Obesity Rate by Age\n",
        "\n",
        "* Obesity rises with age, peaking in midlife, possible reasons could be:\n",
        "  * Slower metabolism\n",
        "  * Unable to Work-life balance\n",
        "  * Family pressures limiting time for health\n",
        "\n",
        "* Young adults show significantly lower rates, possible reasons could be:\n",
        "  * Higher activity levels\n",
        "  * Faster metabolism\n",
        "  * More aware of outlook/weight\n",
        "\n",
        "* Older adults show a decline in obesity, possible reasons could be:\n",
        "  * Increased health awareness or dietary changes\n",
        "  * Sadly but survivor bias, less healthy individuals may not remain in sample\n"
      ],
      "metadata": {
        "id": "EJDaoJX5fN3_"
      }
    },
    {
      "cell_type": "markdown",
      "source": [
        "## Explore Relationship between Obesity Rate and Physical Activity"
      ],
      "metadata": {
        "id": "g5JsOgYCi_pL"
      }
    },
    {
      "cell_type": "markdown",
      "source": [
        "### Extract Subset related to obesity rate and inactivity\n",
        "\n",
        "* Records from 2016-2023, using states level and using total adult population data\n",
        "\n",
        "* Around 2% of missing data, dropped missing records."
      ],
      "metadata": {
        "id": "ukG6ftaQ-GPL"
      }
    },
    {
      "cell_type": "code",
      "source": [
        "# Extract subset, use records related to two question, and use total demographic records only\n",
        "activity_obesity = df_2016_2023[((\n",
        "    df_2016_2023['Question'] == 'Obesity(%)') | (df_2016_2023['Question'] == 'Inactivity(%)')) &\n",
        "                                (df_2016_2023['Total'] == 'Total') & (df_2016_2023['State'] != 'National')][['Year', 'State', 'Question', 'Proportion(%)']]\n",
        "activity_obesity.head(3), activity_obesity.shape"
      ],
      "metadata": {
        "colab": {
          "base_uri": "https://localhost:8080/"
        },
        "id": "dkMx0Gl395PF",
        "outputId": "5fdd177a-48f0-4f72-80b1-00ff8021359c"
      },
      "execution_count": 189,
      "outputs": [
        {
          "output_type": "execute_result",
          "data": {
            "text/plain": [
              "(    Year   State       Question  Proportion(%)\n",
              " 21  2017   Idaho  Inactivity(%)           24.2\n",
              " 77  2016  Alaska     Obesity(%)           31.4\n",
              " 79  2016  Alaska  Inactivity(%)           19.1,\n",
              " (860, 4))"
            ]
          },
          "metadata": {},
          "execution_count": 189
        }
      ]
    },
    {
      "cell_type": "code",
      "source": [
        "# Create pivot table\n",
        "activity_pivot = activity_obesity.pivot_table(\n",
        "    index=['Year', 'State'], columns='Question', values='Proportion(%)', dropna=False).reset_index()"
      ],
      "metadata": {
        "id": "zEjbRWmO--08"
      },
      "execution_count": 190,
      "outputs": []
    },
    {
      "cell_type": "code",
      "source": [
        "# Check null prop., around 2% missing records\n",
        "for col in activity_pivot.columns:\n",
        "    pct_missing = np.mean(activity_pivot[col].isnull())\n",
        "    print('{} - {}%'.format(col, round(pct_missing*100)))"
      ],
      "metadata": {
        "colab": {
          "base_uri": "https://localhost:8080/"
        },
        "id": "8HV_tY95AL3T",
        "outputId": "5a2652b9-0142-4ce3-cf40-cae53be7cdb5"
      },
      "execution_count": 191,
      "outputs": [
        {
          "output_type": "stream",
          "name": "stdout",
          "text": [
            "Year - 0%\n",
            "State - 0%\n",
            "Inactivity(%) - 2%\n",
            "Obesity(%) - 2%\n"
          ]
        }
      ]
    },
    {
      "cell_type": "code",
      "source": [
        "# drop missing records\n",
        "activity_pivot.dropna(inplace=True)"
      ],
      "metadata": {
        "id": "d82wsbWeBD_u"
      },
      "execution_count": 193,
      "outputs": []
    },
    {
      "cell_type": "markdown",
      "source": [
        "## Visualization of Obesity Rate vs. Physical Inactivity Rate"
      ],
      "metadata": {
        "id": "ujQ1AfMHASNw"
      }
    },
    {
      "cell_type": "code",
      "source": [
        "# scatter plot, inactivity vs obesity\n",
        "sns.scatterplot(data=activity_pivot, x='Inactivity(%)', y='Obesity(%)')\n",
        "plt.title('Obesity vs. Physical Inactivity Rate (Total Adult Population)', fontsize=16, fontweight='bold', y=1.03)\n",
        "sns.regplot(data=activity_pivot, x='Inactivity(%)', y='Obesity(%)', scatter_kws={'alpha':0.5})\n",
        "plt.suptitle('Each point represents a U.S. state in a given year (2016–2023)', fontsize=12, y=0.9, color='gray')\n",
        "plt.ylabel('Obesity Rate (%)', fontsize=14)\n",
        "plt.xlabel('% of adults who engage in no leisure-time physical activity', fontsize=14);"
      ],
      "metadata": {
        "colab": {
          "base_uri": "https://localhost:8080/",
          "height": 474
        },
        "id": "Vosl97eKBvmh",
        "outputId": "a8adf7b7-4301-4e45-af73-50252ff14014"
      },
      "execution_count": 194,
      "outputs": [
        {
          "output_type": "display_data",
          "data": {
            "text/plain": [
              "<Figure size 1200x800 with 1 Axes>"
            ],
            "image/png": "[encoded data removed]"
          },
          "metadata": {}
        }
      ]
    },
    {
      "cell_type": "markdown",
      "source": [
        "* the plot shows a strong positive relationship between state-level inactivity and obesity rates.\n",
        "\n",
        "* States with higher percentages of physically inactive adults tend to report higher obesity rates in the same year.\n",
        "\n",
        "* Because this uses total population data, it reflects state-level trends, not individual differences"
      ],
      "metadata": {
        "id": "rYYQoV6Dp1Z_"
      }
    },
    {
      "cell_type": "markdown",
      "source": [
        "### 💡 Key Findings from Inactivity vs Obesity Rate\n",
        "\n",
        "* States with higher physical inactivity rates tend to have higher adult obesity rates.\n",
        "\n",
        "* The positive trend holds across multiple years, despite some state-to-state variation.\n",
        "\n",
        "* While correlation doesn’t confirm causation, this pattern supports the idea that inactivity is a contributing behavioral factor in obesity."
      ],
      "metadata": {
        "id": "jqXlTCDDsq9S"
      }
    },
    {
      "cell_type": "markdown",
      "source": [
        "## EDA Conclusion\n",
        "\n",
        "### Summary:\n",
        "In the exploratory phase, I analyzed obesity trends and distributions across key demographics (race/ethnicity, income, education, sex, and age), as well as behavioral factors like physical inactivity. I also explored national and state-level trends over time.\n",
        "<br> <br>\n",
        "### 💡 Key Insights:\n",
        "* Obesity has increased steadily nationwide from 2016 to 2022, with a slight drop in 2023.\n",
        "\n",
        "* Education and income show a clear inverse relationship with obesity, higher education and income correlate with lower and more stable obesity rates.\n",
        "\n",
        "* Race/ethnicity disparities exist, with Hispanic and Non-Hispanic Black adults showing higher obesity rates on average, while Asian adults show lower rates on average.\n",
        "\n",
        "* Age demonstrates a peak in midlife (45-54), with lower rates among youngder and older adults.\n",
        "\n",
        "* Physical inactivity is positively correlated with obesity at the state level, reinforcing behavioral factors in public health outcomes.\n",
        "\n",
        "\n",
        "### Limitations:\n",
        "\n",
        "* Not all variables were consistently reported across all years or states.\n",
        "\n",
        "* This analysis is observational; patterns do not imply direct causation.\n"
      ],
      "metadata": {
        "id": "H00BTnmLtzWr"
      }
    }
  ]
}